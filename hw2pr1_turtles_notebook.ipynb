{
  "cells": [
    {
      "cell_type": "markdown",
      "metadata": {
        "id": "EafH-zQxEcnr"
      },
      "source": [
        "\n",
        "\n",
        "# Notebooks and Recursion and Turtles!"
      ]
    },
    {
      "cell_type": "markdown",
      "metadata": {
        "id": "KtcS8v2_1e-7"
      },
      "source": [
        "# <font color=\"DodgerBlue\"><b>Turtle Scripting </b></font>\n",
        "\n",
        "Start by running the code boxes below to install our turtle library, named <tt>ColabTurtlePlus</tt>:\n",
        "\n",
        "<!--\n",
        "The line `t.initializeTurtle()` creates a turtle graphic terminal? box? if you haven't created one, and erases/refreshes the turtle graphic if you already have one.\n",
        "-->"
      ]
    },
    {
      "cell_type": "code",
      "execution_count": 2,
      "metadata": {
        "colab": {
          "base_uri": "https://localhost:8080/"
        },
        "id": "ccYZMirB5ZxD",
        "outputId": "b086f03b-39fd-4d7b-f21f-82b15e8a534a"
      },
      "outputs": [
        {
          "name": "stdout",
          "output_type": "stream",
          "text": [
            "Collecting ColabTurtlePlus\n",
            "  Downloading ColabTurtlePlus-2.0.1-py3-none-any.whl (31 kB)\n",
            "Installing collected packages: ColabTurtlePlus\n",
            "Successfully installed ColabTurtlePlus-2.0.1\n"
          ]
        }
      ],
      "source": [
        "!pip install ColabTurtlePlus"
      ]
    },
    {
      "cell_type": "code",
      "execution_count": 3,
      "metadata": {
        "id": "ZldMkZqQEm9O"
      },
      "outputs": [
        {
          "name": "stdout",
          "output_type": "stream",
          "text": [
            "Put clearscreen() as the first line in a cell (after the import command) to re-run turtle commands in the cell\n"
          ]
        }
      ],
      "source": [
        "import ColabTurtlePlus.Turtle as t\n"
      ]
    },
    {
      "cell_type": "markdown",
      "metadata": {
        "id": "MAALe3_424CH"
      },
      "source": [
        "### Next, try an example turtle-drawing script:\n",
        "\n",
        "- <font size = \"-1\"> Note:   A script usually describes code that's <i>not</i> organized into a function:"
      ]
    },
    {
      "cell_type": "code",
      "execution_count": 8,
      "metadata": {
        "colab": {
          "base_uri": "https://localhost:8080/",
          "height": 521
        },
        "id": "38lmk3NC2pOs",
        "outputId": "45899ea5-2704-4558-ae46-731dfba92063"
      },
      "outputs": [
        {
          "data": {
            "text/html": [
              "\n",
              "      <svg width=\"500\" height=\"500\">  \n",
              "        <rect width=\"100%\" height=\"100%\" style=\"fill:aliceblue;stroke:gray;stroke-width:1\"/>\n",
              "        \n",
              "        \n",
              "        <line x1=\"250.0\" y1=\"250.0\" x2=\"350.0\" y2=\"250.0\" stroke-linecap=\"round\" style=\"stroke:green;stroke-width:5\" /><line x1=\"350.0\" y1=\"250.0\" x2=\"350.0\" y2=\"150.0\" stroke-linecap=\"round\" style=\"stroke:dodgerblue;stroke-width:2\" /><line x1=\"250.0\" y1=\"150.0\" x2=\"250.0\" y2=\"250.0\" stroke-linecap=\"round\" style=\"stroke:purple;stroke-width:2\" />\n",
              "        \n",
              "        \n",
              "        <g id=\"turtle2\" visibility=\"visible\" transform=\"rotate(225,300.0,200.0) translate(300.0, 200.0)\">\n",
              "<polygon points=\"0,16 2,14 1,10 4,7 7,9 9,8 6,5 7,1 5,-3 8,-6 6,-8 4,-5 0,-7 -4,-5 -6,-8 -8,-6 -5,-3 -7,1 -6,5 -9,8 -7,9 -4,7 -1,10 -2,14\" transform=\"skewX(0) scale(1,1)\" style=\"stroke:green;stroke-width:1;fill:green\" />\n",
              "</g>\n",
              "      </svg>\n",
              "    "
            ],
            "text/plain": [
              "<IPython.core.display.HTML object>"
            ]
          },
          "metadata": {},
          "output_type": "display_data"
        }
      ],
      "source": [
        "import ColabTurtlePlus.Turtle as t\n",
        "\n",
        "t.clearscreen()      # it's good to start every cell with this\n",
        "t.setup(500,500)     # setup the drawing area to be 500 pixels x 500 pixels\n",
        "t.showborder()       # show the border of the drawing area\n",
        "t.bgcolor(\"AliceBlue\") # sets the background color (could also use \"#E0E0FF\" on the Mac)\n",
        "\n",
        "t.shape('turtle2') # Options: ['turtle', 'ring', 'classic', 'arrow', 'square', 'triangle', 'circle', 'turtle2', 'blank']\n",
        "\n",
        "t.speed(5)         # 10 is fastest, 1 is slowest\n",
        "\n",
        "# side one\n",
        "t.color(\"green\")   # a link below shares _all_ the colors\n",
        "t.width(5)         # number of pixels wide for the turtle's trail\n",
        "t.forward(100)     # forward 100 pixels\n",
        "t.left(90)         # left 90 degrees\n",
        "\n",
        "# side two\n",
        "t.color(\"DodgerBlue\")    # hometeam?!\n",
        "t.width(2)\n",
        "t.forward(100)\n",
        "t.left(90)\n",
        "\n",
        "# side three\n",
        "t.penup()          # \"lift\" the pen - the turtle will not draw\n",
        "t.forward(100)\n",
        "t.left(90)\n",
        "t.pendown()        # put the pen back \"down\": drawing will resume\n",
        "\n",
        "# side four\n",
        "t.color(\"purple\")\n",
        "t.forward(100)\n",
        "t.left(135)        # to aim \"northeast\"\n",
        "t.penup()\n",
        "from math import sqrt\n",
        "t.forward(50*sqrt(2))   # move to the \"middle\": 50*sqrt(2)\n",
        "t.color(\"green\")"
      ]
    },
    {
      "cell_type": "markdown",
      "metadata": {
        "id": "0FgRysh53FmK"
      },
      "source": [
        "#### **Turtle Task #1:    *Drawing practice!***\n",
        "\n",
        "\n",
        "The, <i>change</i> it so that:\n",
        "+ You draw a _different_ set of lines -- with at least ***5*** lines\n"
      ]
    },
    {
      "cell_type": "code",
      "execution_count": 36,
      "metadata": {
        "colab": {
          "base_uri": "https://localhost:8080/",
          "height": 521
        },
        "id": "mlHvMa3TCV6E",
        "outputId": "5abf7506-b9da-4087-efd6-ea9f9974b5c2"
      },
      "outputs": [
        {
          "data": {
            "text/html": [
              "\n",
              "      <svg width=\"500\" height=\"500\">  \n",
              "        <rect width=\"100%\" height=\"100%\" style=\"fill:beige;stroke:gray;stroke-width:1\"/>\n",
              "        \n",
              "        \n",
              "        <line x1=\"250.0\" y1=\"250.0\" x2=\"420.0\" y2=\"250.0\" stroke-linecap=\"round\" style=\"stroke:aqua;stroke-width:15\" /><line x1=\"420.0\" y1=\"250.0\" x2=\"420.0\" y2=\"150.0\" stroke-linecap=\"round\" style=\"stroke:aquamarine;stroke-width:10\" /><line x1=\"420.0\" y1=\"150.0\" x2=\"333.397\" y2=\"100.0\" stroke-linecap=\"round\" style=\"stroke:chartreuse;stroke-width:5\" /><line x1=\"333.397\" y1=\"100.0\" x2=\"246.794\" y2=\"150.0\" stroke-linecap=\"round\" style=\"stroke:cornflowerblue;stroke-width:5\" /><line x1=\"246.794\" y1=\"150.0\" x2=\"246.794\" y2=\"250.0\" stroke-linecap=\"round\" style=\"stroke:darkslateblue;stroke-width:10\" />\n",
              "        \n",
              "        \n",
              "        <g id=\"ring\" visibility=\"visible\" transform=\"rotate(-90,246.794,250.0) translate(246.794, 264.0)\">\n",
              "<ellipse stroke=\"darkslateblue\" transform=\"skewX(0)\" stroke-width=\"3\" fill=\"transparent\" rx=\"10\" ry = \"10\" cx=\"0\" cy=\"-14\" />\n",
              "<polygon points=\"0,5 5,0 -5,0\" transform=\"skewX(0) scale(1,1)\" style=\"fill:darkslateblue;stroke:darkslateblue;stroke-width:1\" />\n",
              "</g>\n",
              "      </svg>\n",
              "    "
            ],
            "text/plain": [
              "<IPython.core.display.HTML object>"
            ]
          },
          "metadata": {},
          "output_type": "display_data"
        }
      ],
      "source": [
        "# Here is a Colab cell for your \"Polygon practice\"\n",
        "#\n",
        "#      (feel free to copy-paste-adapt, from above)\n",
        "\n",
        "import ColabTurtlePlus.Turtle as t\n",
        "from ColabTurtlePlus.Turtle import *\n",
        "import math\n",
        "\n",
        "clearscreen()      # it's good to start every cell with this\n",
        "setup(500,500)     # setup the drawing area to be 500 pixels x 500 pixels\n",
        "showborder()       # show the border of the drawing area\n",
        "bgcolor(\"beige\")\n",
        "\n",
        "t.shape('ring') # Options: ['turtle', 'ring', 'classic', 'arrow', 'square', 'triangle', 'circle', 'turtle2', 'blank']\n",
        "\n",
        "t.speed(6)         # 10 is fastest, 1 is slowest\n",
        "\n",
        "# side one\n",
        "t.color(\"aqua\")\n",
        "t.width(15)\n",
        "t.forward(170)\n",
        "t.left(90)\n",
        "\n",
        "# side two\n",
        "t.color(\"aquamarine\")\n",
        "t.width(10)\n",
        "t.forward(100)\n",
        "t.left(60)\n",
        "\n",
        "# side three\n",
        "t.color(\"chartreuse\")\n",
        "t.width(5)\n",
        "t.forward(100)\n",
        "t.left(60)\n",
        "\n",
        "# side four\n",
        "t.color(\"cornflowerblue\")\n",
        "t.width(5)\n",
        "t.forward(100)\n",
        "t.left(60)\n",
        "\n",
        "# side five\n",
        "t.color(\"darkslateblue\")\n",
        "t.width(10)\n",
        "t.forward(100)\n",
        "t.left(90)"
      ]
    },
    {
      "cell_type": "markdown",
      "metadata": {
        "id": "-LbLya3h7xdY"
      },
      "source": [
        "## <font color=\"#f96d7b\"><b>Turtle <i>Functioning</i> </b></font>\n",
        "\n",
        "Below is the recursive <tt>tri</tt> function from class...\n"
      ]
    },
    {
      "cell_type": "code",
      "execution_count": 45,
      "metadata": {
        "colab": {
          "base_uri": "https://localhost:8080/",
          "height": 521
        },
        "id": "Ffp6015lD5ro",
        "outputId": "d62d5bf1-6f7f-4563-ac6b-bddc1ffd1d61"
      },
      "outputs": [
        {
          "data": {
            "text/html": [
              "\n",
              "      <svg width=\"500\" height=\"500\">  \n",
              "        <rect width=\"100%\" height=\"100%\" style=\"fill:aliceblue;stroke:gray;stroke-width:1\"/>\n",
              "        \n",
              "        \n",
              "        <path fill-rule=\"evenodd\" fill-opacity=\"1\" d=\"M 250.0 250.0  L 350.0 250.0  L 300.0 163.397  L 250.0 250.0 \" stroke-linecap=\"round\" style=\"stroke:blue;stroke-width:4\" fill=\"blue\" />\n",
              "        <circle cx=\"250.0\" cy=\"250.0\" r=\"5.0\" fill=\"yellow\" fill-opacity=\"1\" /><circle cx=\"350.0\" cy=\"250.0\" r=\"5.0\" fill=\"yellow\" fill-opacity=\"1\" /><circle cx=\"300.0\" cy=\"163.397\" r=\"5.0\" fill=\"yellow\" fill-opacity=\"1\" />\n",
              "        \n",
              "        <g id=\"turtle2\" visibility=\"visible\" transform=\"rotate(-90,250.0,250.0) translate(250.0, 250.0)\">\n",
              "<polygon points=\"0,16 2,14 1,10 4,7 7,9 9,8 6,5 7,1 5,-3 8,-6 6,-8 4,-5 0,-7 -4,-5 -6,-8 -8,-6 -5,-3 -7,1 -6,5 -9,8 -7,9 -4,7 -1,10 -2,14\" transform=\"skewX(0) scale(1,1)\" style=\"stroke:blue;stroke-width:1;fill:blue\" />\n",
              "</g>\n",
              "      </svg>\n",
              "    "
            ],
            "text/plain": [
              "<IPython.core.display.HTML object>"
            ]
          },
          "metadata": {},
          "output_type": "display_data"
        }
      ],
      "source": [
        "import ColabTurtlePlus.Turtle as t\n",
        "import random\n",
        "\n",
        "t.clearscreen()      # it's good to start every cell with this\n",
        "t.setup(500,500)     # setup the drawing area to be 500 pixels x 500 pixels\n",
        "t.showborder()       # show the border of the drawing area\n",
        "\n",
        "t.bgcolor(\"AliceBlue\")   # adjust to your preferences!\n",
        "t.shape(\"turtle2\")\n",
        "t.speed(10)\n",
        "t.width(2)\n",
        "\n",
        "#\n",
        "# our tri function\n",
        "#\n",
        "def tri(n):\n",
        "    \"\"\"Draws n 100-pixel sides of an equilateral triangle.\n",
        "      Note that n doesn't have to be 3 (!)\n",
        "    \"\"\"\n",
        "    if n == 0:\n",
        "        return      # No sides to draw, so stop drawing\n",
        "    else:\n",
        "        t.dot(10, 'yellow')\n",
        "        clr = random.choice(['darkgreen', 'red', 'blue'])\n",
        "        t.color(clr)\n",
        "        t.width(3*n+1)\n",
        "        t.forward(100)\n",
        "        t.left(120)\n",
        "        tri(n-1)    # Recur to draw the rest of the sides!\n",
        "\n",
        "#\n",
        "# here, run tri(3)\n",
        "#\n",
        "t.fillcolor('blue')\n",
        "t.begin_fill()\n",
        "tri(3)\n",
        "t.end_fill()"
      ]
    },
    {
      "cell_type": "markdown",
      "metadata": {
        "id": "wKatZHgFjH4x"
      },
      "source": [
        "## <b>Turtle Task #2:    <i>Spiraling</i></b>\n"
      ]
    },
    {
      "cell_type": "markdown",
      "metadata": {
        "id": "XZnJWoxWkHc2"
      },
      "source": [
        "## <b>The `spiral` function </b> \n",
        "\n",
        "Next, you'll build another <i>single-path</i> recursive function, named `spiral`. \n",
        "\n",
        "The idea is to write `spiral(initialLength, angle, multiplier)`\n",
        "+ `initialLength` is the length of the first \"spiral leg\"\n",
        "+ `angle` is the amount the turtle turns after each leg\n",
        "+ `multiplier` is the multiplier used, with each spiral-leg!"
      ]
    },
    {
      "cell_type": "code",
      "execution_count": 50,
      "metadata": {
        "colab": {
          "base_uri": "https://localhost:8080/",
          "height": 521
        },
        "id": "lTgFbs3Ilmtw",
        "outputId": "8faa07bd-2b55-487d-ea89-f10cf44e5f8d"
      },
      "outputs": [
        {
          "data": {
            "text/html": [
              "\n",
              "      <svg width=\"500\" height=\"500\">  \n",
              "        <rect width=\"100%\" height=\"100%\" style=\"fill:aliceblue;stroke:gray;stroke-width:1\"/>\n",
              "        \n",
              "        \n",
              "        <line x1=\"250.0\" y1=\"250.0\" x2=\"350.0\" y2=\"250.0\" stroke-linecap=\"round\" style=\"stroke:black;stroke-width:2\" /><line x1=\"350.0\" y1=\"250.0\" x2=\"350.0\" y2=\"160.0\" stroke-linecap=\"round\" style=\"stroke:black;stroke-width:2\" /><line x1=\"350.0\" y1=\"160.0\" x2=\"269.0\" y2=\"160.0\" stroke-linecap=\"round\" style=\"stroke:black;stroke-width:2\" /><line x1=\"269.0\" y1=\"160.0\" x2=\"269.0\" y2=\"232.9\" stroke-linecap=\"round\" style=\"stroke:black;stroke-width:2\" /><line x1=\"269.0\" y1=\"232.9\" x2=\"334.61\" y2=\"232.9\" stroke-linecap=\"round\" style=\"stroke:black;stroke-width:2\" /><line x1=\"334.61\" y1=\"232.9\" x2=\"334.61\" y2=\"173.851\" stroke-linecap=\"round\" style=\"stroke:black;stroke-width:2\" /><line x1=\"334.61\" y1=\"173.851\" x2=\"281.466\" y2=\"173.851\" stroke-linecap=\"round\" style=\"stroke:black;stroke-width:2\" /><line x1=\"281.466\" y1=\"173.851\" x2=\"281.466\" y2=\"221.681\" stroke-linecap=\"round\" style=\"stroke:black;stroke-width:2\" /><line x1=\"281.466\" y1=\"221.681\" x2=\"324.513\" y2=\"221.681\" stroke-linecap=\"round\" style=\"stroke:black;stroke-width:2\" /><line x1=\"324.513\" y1=\"221.681\" x2=\"324.513\" y2=\"182.939\" stroke-linecap=\"round\" style=\"stroke:black;stroke-width:2\" /><line x1=\"324.513\" y1=\"182.939\" x2=\"289.645\" y2=\"182.939\" stroke-linecap=\"round\" style=\"stroke:black;stroke-width:2\" /><line x1=\"289.645\" y1=\"182.939\" x2=\"289.645\" y2=\"214.32\" stroke-linecap=\"round\" style=\"stroke:black;stroke-width:2\" /><line x1=\"289.645\" y1=\"214.32\" x2=\"317.888\" y2=\"214.32\" stroke-linecap=\"round\" style=\"stroke:black;stroke-width:2\" /><line x1=\"317.888\" y1=\"214.32\" x2=\"317.888\" y2=\"188.901\" stroke-linecap=\"round\" style=\"stroke:black;stroke-width:2\" /><line x1=\"317.888\" y1=\"188.901\" x2=\"295.011\" y2=\"188.901\" stroke-linecap=\"round\" style=\"stroke:black;stroke-width:2\" /><line x1=\"295.011\" y1=\"188.901\" x2=\"295.011\" y2=\"209.49\" stroke-linecap=\"round\" style=\"stroke:black;stroke-width:2\" /><line x1=\"295.011\" y1=\"209.49\" x2=\"313.541\" y2=\"209.49\" stroke-linecap=\"round\" style=\"stroke:black;stroke-width:2\" /><line x1=\"313.541\" y1=\"209.49\" x2=\"313.541\" y2=\"192.813\" stroke-linecap=\"round\" style=\"stroke:black;stroke-width:2\" /><line x1=\"313.541\" y1=\"192.813\" x2=\"298.532\" y2=\"192.813\" stroke-linecap=\"round\" style=\"stroke:black;stroke-width:2\" /><line x1=\"298.532\" y1=\"192.813\" x2=\"298.532\" y2=\"206.322\" stroke-linecap=\"round\" style=\"stroke:black;stroke-width:2\" /><line x1=\"298.532\" y1=\"206.322\" x2=\"310.69\" y2=\"206.322\" stroke-linecap=\"round\" style=\"stroke:black;stroke-width:2\" /><line x1=\"310.69\" y1=\"206.322\" x2=\"310.69\" y2=\"195.38\" stroke-linecap=\"round\" style=\"stroke:black;stroke-width:2\" /><line x1=\"310.69\" y1=\"195.38\" x2=\"300.842\" y2=\"195.38\" stroke-linecap=\"round\" style=\"stroke:black;stroke-width:2\" /><line x1=\"300.842\" y1=\"195.38\" x2=\"300.842\" y2=\"204.243\" stroke-linecap=\"round\" style=\"stroke:black;stroke-width:2\" /><line x1=\"300.842\" y1=\"204.243\" x2=\"308.819\" y2=\"204.243\" stroke-linecap=\"round\" style=\"stroke:black;stroke-width:2\" /><line x1=\"308.819\" y1=\"204.243\" x2=\"308.819\" y2=\"197.064\" stroke-linecap=\"round\" style=\"stroke:black;stroke-width:2\" /><line x1=\"308.819\" y1=\"197.064\" x2=\"302.358\" y2=\"197.064\" stroke-linecap=\"round\" style=\"stroke:black;stroke-width:2\" /><line x1=\"302.358\" y1=\"197.064\" x2=\"302.358\" y2=\"202.879\" stroke-linecap=\"round\" style=\"stroke:black;stroke-width:2\" /><line x1=\"302.358\" y1=\"202.879\" x2=\"307.591\" y2=\"202.879\" stroke-linecap=\"round\" style=\"stroke:black;stroke-width:2\" /><line x1=\"307.591\" y1=\"202.879\" x2=\"307.591\" y2=\"198.169\" stroke-linecap=\"round\" style=\"stroke:black;stroke-width:2\" /><line x1=\"307.591\" y1=\"198.169\" x2=\"303.352\" y2=\"198.169\" stroke-linecap=\"round\" style=\"stroke:black;stroke-width:2\" /><line x1=\"303.352\" y1=\"198.169\" x2=\"303.352\" y2=\"201.984\" stroke-linecap=\"round\" style=\"stroke:black;stroke-width:2\" /><line x1=\"303.352\" y1=\"201.984\" x2=\"306.786\" y2=\"201.984\" stroke-linecap=\"round\" style=\"stroke:black;stroke-width:2\" /><line x1=\"306.786\" y1=\"201.984\" x2=\"306.786\" y2=\"198.894\" stroke-linecap=\"round\" style=\"stroke:black;stroke-width:2\" /><line x1=\"306.786\" y1=\"198.894\" x2=\"304.005\" y2=\"198.894\" stroke-linecap=\"round\" style=\"stroke:black;stroke-width:2\" /><line x1=\"304.005\" y1=\"198.894\" x2=\"304.005\" y2=\"201.397\" stroke-linecap=\"round\" style=\"stroke:black;stroke-width:2\" /><line x1=\"304.005\" y1=\"201.397\" x2=\"306.258\" y2=\"201.397\" stroke-linecap=\"round\" style=\"stroke:black;stroke-width:2\" /><line x1=\"306.258\" y1=\"201.397\" x2=\"306.258\" y2=\"199.369\" stroke-linecap=\"round\" style=\"stroke:black;stroke-width:2\" /><line x1=\"306.258\" y1=\"199.369\" x2=\"304.433\" y2=\"199.369\" stroke-linecap=\"round\" style=\"stroke:black;stroke-width:2\" /><line x1=\"304.433\" y1=\"199.369\" x2=\"304.433\" y2=\"201.011\" stroke-linecap=\"round\" style=\"stroke:black;stroke-width:2\" /><line x1=\"304.433\" y1=\"201.011\" x2=\"305.911\" y2=\"201.011\" stroke-linecap=\"round\" style=\"stroke:black;stroke-width:2\" /><line x1=\"305.911\" y1=\"201.011\" x2=\"305.911\" y2=\"199.681\" stroke-linecap=\"round\" style=\"stroke:black;stroke-width:2\" /><line x1=\"305.911\" y1=\"199.681\" x2=\"304.714\" y2=\"199.681\" stroke-linecap=\"round\" style=\"stroke:black;stroke-width:2\" /><line x1=\"304.714\" y1=\"199.681\" x2=\"304.714\" y2=\"200.759\" stroke-linecap=\"round\" style=\"stroke:black;stroke-width:2\" />\n",
              "        \n",
              "        \n",
              "        <g id=\"turtle2\" visibility=\"visible\" transform=\"rotate(0,304.714,200.759) translate(304.714, 200.759)\">\n",
              "<polygon points=\"0,16 2,14 1,10 4,7 7,9 9,8 6,5 7,1 5,-3 8,-6 6,-8 4,-5 0,-7 -4,-5 -6,-8 -8,-6 -5,-3 -7,1 -6,5 -9,8 -7,9 -4,7 -1,10 -2,14\" transform=\"skewX(0) scale(1,1)\" style=\"stroke:black;stroke-width:1;fill:black\" />\n",
              "<animateTransform id = \"one\" attributeName=\"transform\" \n",
              "                      type=\"scale\"\n",
              "                      from=\"1 1\" to=\"1 1\"\n",
              "                      begin=\"0s\" dur=\"0.01s\"\n",
              "                      repeatCount=\"1\"\n",
              "                      additive=\"sum\"\n",
              "                      fill=\"freeze\"\n",
              "                /><animateTransform attributeName=\"transform\"\n",
              "                    type=\"rotate\"\n",
              "                    from=\"0 0 0\" to =\"-90 0 0\"\n",
              "                    begin=\"one.end\" dur=\"0.08s\"\n",
              "                    repeatCount=\"1\"\n",
              "                    additive=\"sum\"\n",
              "                    fill=\"freeze\"\n",
              "                /></g>\n",
              "      </svg>\n",
              "    "
            ],
            "text/plain": [
              "<IPython.core.display.HTML object>"
            ]
          },
          "metadata": {},
          "output_type": "display_data"
        }
      ],
      "source": [
        "import ColabTurtlePlus.Turtle as t\n",
        "\n",
        "t.clearscreen()      # it's good to start every cell with this\n",
        "t.setup(500,500)     # setup the drawing area to be 500 pixels x 500 pixels\n",
        "t.showborder()       # show the border of the drawing area\n",
        "\n",
        "t.bgcolor(\"AliceBlue\")   # adjust to your preferences!\n",
        "t.shape(\"turtle2\")\n",
        "t.speed(10)\n",
        "t.width(2)\n",
        "\n",
        "def spiral(initialLength, angle, multiplier):\n",
        "    \"\"\"Spiral-drawing function.  Arguments:\n",
        "       initialLength = the length of the first leg of the spiral\n",
        "       angle = the angle, in degrees, turned after each spiral's leg\n",
        "       multiplier = the fraction by which each leg of the spiral changes\n",
        "    \"\"\"\n",
        "    if initialLength <= 1 or initialLength > 1000:\n",
        "        return      # No more to draw, this base case stops the recursion\n",
        "    else:\n",
        "        t.forward(initialLength)\n",
        "        t.left(angle)\n",
        "        spiral(initialLength*multiplier, angle, multiplier)\n",
        "\n",
        "\n",
        "spiral(100, 90, 0.9)"
      ]
    },
    {
      "cell_type": "code",
      "execution_count": 55,
      "metadata": {
        "colab": {
          "base_uri": "https://localhost:8080/",
          "height": 521
        },
        "id": "kZ65_ROUeekD",
        "outputId": "8af0888b-b54d-48c2-d8b1-d3aad523d369"
      },
      "outputs": [
        {
          "data": {
            "text/html": [
              "\n",
              "      <svg width=\"500\" height=\"500\">  \n",
              "        <rect width=\"100%\" height=\"100%\" style=\"fill:aliceblue;stroke:gray;stroke-width:1\"/>\n",
              "        \n",
              "        \n",
              "        <line x1=\"250.0\" y1=\"250.0\" x2=\"350.0\" y2=\"250.0\" stroke-linecap=\"round\" style=\"stroke:black;stroke-width:2\" /><line x1=\"350.0\" y1=\"250.0\" x2=\"256.443\" y2=\"233.503\" stroke-linecap=\"round\" style=\"stroke:black;stroke-width:2\" /><line x1=\"256.443\" y1=\"233.503\" x2=\"341.25\" y2=\"264.37\" stroke-linecap=\"round\" style=\"stroke:black;stroke-width:2\" /><line x1=\"341.25\" y1=\"264.37\" x2=\"266.999\" y2=\"221.501\" stroke-linecap=\"round\" style=\"stroke:black;stroke-width:2\" /><line x1=\"266.999\" y1=\"221.501\" x2=\"329.394\" y2=\"273.856\" stroke-linecap=\"round\" style=\"stroke:black;stroke-width:2\" /><line x1=\"329.394\" y1=\"273.856\" x2=\"279.656\" y2=\"214.581\" stroke-linecap=\"round\" style=\"stroke:black;stroke-width:2\" /><line x1=\"279.656\" y1=\"214.581\" x2=\"316.411\" y2=\"278.242\" stroke-linecap=\"round\" style=\"stroke:black;stroke-width:2\" /><line x1=\"316.411\" y1=\"278.242\" x2=\"292.526\" y2=\"212.62\" stroke-linecap=\"round\" style=\"stroke:black;stroke-width:2\" /><line x1=\"292.526\" y1=\"212.62\" x2=\"304.046\" y2=\"277.954\" stroke-linecap=\"round\" style=\"stroke:black;stroke-width:2\" /><line x1=\"304.046\" y1=\"277.954\" x2=\"304.046\" y2=\"214.929\" stroke-linecap=\"round\" style=\"stroke:black;stroke-width:2\" /><line x1=\"304.046\" y1=\"214.929\" x2=\"293.649\" y2=\"273.893\" stroke-linecap=\"round\" style=\"stroke:black;stroke-width:2\" /><line x1=\"293.649\" y1=\"273.893\" x2=\"313.103\" y2=\"220.443\" stroke-linecap=\"round\" style=\"stroke:black;stroke-width:2\" /><line x1=\"313.103\" y1=\"220.443\" x2=\"286.085\" y2=\"267.24\" stroke-linecap=\"round\" style=\"stroke:black;stroke-width:2\" /><line x1=\"286.085\" y1=\"267.24\" x2=\"319.082\" y2=\"227.916\" stroke-linecap=\"round\" style=\"stroke:black;stroke-width:2\" /><line x1=\"319.082\" y1=\"227.916\" x2=\"281.724\" y2=\"259.263\" stroke-linecap=\"round\" style=\"stroke:black;stroke-width:2\" /><line x1=\"281.724\" y1=\"259.263\" x2=\"321.846\" y2=\"236.098\" stroke-linecap=\"round\" style=\"stroke:black;stroke-width:2\" /><line x1=\"321.846\" y1=\"236.098\" x2=\"280.488\" y2=\"251.151\" stroke-linecap=\"round\" style=\"stroke:black;stroke-width:2\" /><line x1=\"280.488\" y1=\"251.151\" x2=\"321.665\" y2=\"243.89\" stroke-linecap=\"round\" style=\"stroke:black;stroke-width:2\" /><line x1=\"321.665\" y1=\"243.89\" x2=\"281.944\" y2=\"243.89\" stroke-linecap=\"round\" style=\"stroke:black;stroke-width:2\" /><line x1=\"281.944\" y1=\"243.89\" x2=\"319.106\" y2=\"250.443\" stroke-linecap=\"round\" style=\"stroke:black;stroke-width:2\" /><line x1=\"319.106\" y1=\"250.443\" x2=\"285.419\" y2=\"238.182\" stroke-linecap=\"round\" style=\"stroke:black;stroke-width:2\" /><line x1=\"285.419\" y1=\"238.182\" x2=\"314.913\" y2=\"255.21\" stroke-linecap=\"round\" style=\"stroke:black;stroke-width:2\" /><line x1=\"314.913\" y1=\"255.21\" x2=\"290.129\" y2=\"234.414\" stroke-linecap=\"round\" style=\"stroke:black;stroke-width:2\" /><line x1=\"290.129\" y1=\"234.414\" x2=\"309.886\" y2=\"257.959\" stroke-linecap=\"round\" style=\"stroke:black;stroke-width:2\" /><line x1=\"309.886\" y1=\"257.959\" x2=\"295.287\" y2=\"232.672\" stroke-linecap=\"round\" style=\"stroke:black;stroke-width:2\" /><line x1=\"295.287\" y1=\"232.672\" x2=\"304.774\" y2=\"258.738\" stroke-linecap=\"round\" style=\"stroke:black;stroke-width:2\" /><line x1=\"304.774\" y1=\"258.738\" x2=\"300.198\" y2=\"232.786\" stroke-linecap=\"round\" style=\"stroke:black;stroke-width:2\" /><line x1=\"300.198\" y1=\"232.786\" x2=\"300.198\" y2=\"257.82\" stroke-linecap=\"round\" style=\"stroke:black;stroke-width:2\" /><line x1=\"300.198\" y1=\"257.82\" x2=\"304.328\" y2=\"234.399\" stroke-linecap=\"round\" style=\"stroke:black;stroke-width:2\" /><line x1=\"304.328\" y1=\"234.399\" x2=\"296.601\" y2=\"255.63\" stroke-linecap=\"round\" style=\"stroke:black;stroke-width:2\" /><line x1=\"296.601\" y1=\"255.63\" x2=\"307.333\" y2=\"237.042\" stroke-linecap=\"round\" style=\"stroke:black;stroke-width:2\" /><line x1=\"307.333\" y1=\"237.042\" x2=\"294.226\" y2=\"252.662\" stroke-linecap=\"round\" style=\"stroke:black;stroke-width:2\" /><line x1=\"294.226\" y1=\"252.662\" x2=\"309.065\" y2=\"240.21\" stroke-linecap=\"round\" style=\"stroke:black;stroke-width:2\" /><line x1=\"309.065\" y1=\"240.21\" x2=\"293.128\" y2=\"249.411\" stroke-linecap=\"round\" style=\"stroke:black;stroke-width:2\" /><line x1=\"293.128\" y1=\"249.411\" x2=\"309.556\" y2=\"243.432\" stroke-linecap=\"round\" style=\"stroke:black;stroke-width:2\" /><line x1=\"309.556\" y1=\"243.432\" x2=\"293.2\" y2=\"246.316\" stroke-linecap=\"round\" style=\"stroke:black;stroke-width:2\" /><line x1=\"293.2\" y1=\"246.316\" x2=\"308.978\" y2=\"246.316\" stroke-linecap=\"round\" style=\"stroke:black;stroke-width:2\" /><line x1=\"308.978\" y1=\"246.316\" x2=\"294.217\" y2=\"243.713\" stroke-linecap=\"round\" style=\"stroke:black;stroke-width:2\" /><line x1=\"294.217\" y1=\"243.713\" x2=\"307.598\" y2=\"248.583\" stroke-linecap=\"round\" style=\"stroke:black;stroke-width:2\" /><line x1=\"307.598\" y1=\"248.583\" x2=\"295.883\" y2=\"241.819\" stroke-linecap=\"round\" style=\"stroke:black;stroke-width:2\" /><line x1=\"295.883\" y1=\"241.819\" x2=\"305.728\" y2=\"250.08\" stroke-linecap=\"round\" style=\"stroke:black;stroke-width:2\" /><line x1=\"305.728\" y1=\"250.08\" x2=\"297.88\" y2=\"240.728\" stroke-linecap=\"round\" style=\"stroke:black;stroke-width:2\" /><line x1=\"297.88\" y1=\"240.728\" x2=\"303.679\" y2=\"250.772\" stroke-linecap=\"round\" style=\"stroke:black;stroke-width:2\" /><line x1=\"303.679\" y1=\"250.772\" x2=\"299.911\" y2=\"240.418\" stroke-linecap=\"round\" style=\"stroke:black;stroke-width:2\" /><line x1=\"299.911\" y1=\"240.418\" x2=\"301.729\" y2=\"250.726\" stroke-linecap=\"round\" style=\"stroke:black;stroke-width:2\" /><line x1=\"301.729\" y1=\"250.726\" x2=\"301.729\" y2=\"240.782\" stroke-linecap=\"round\" style=\"stroke:black;stroke-width:2\" /><line x1=\"301.729\" y1=\"240.782\" x2=\"300.089\" y2=\"250.085\" stroke-linecap=\"round\" style=\"stroke:black;stroke-width:2\" /><line x1=\"300.089\" y1=\"250.085\" x2=\"303.158\" y2=\"241.652\" stroke-linecap=\"round\" style=\"stroke:black;stroke-width:2\" /><line x1=\"303.158\" y1=\"241.652\" x2=\"298.895\" y2=\"249.036\" stroke-linecap=\"round\" style=\"stroke:black;stroke-width:2\" /><line x1=\"298.895\" y1=\"249.036\" x2=\"304.101\" y2=\"242.831\" stroke-linecap=\"round\" style=\"stroke:black;stroke-width:2\" /><line x1=\"304.101\" y1=\"242.831\" x2=\"298.207\" y2=\"247.777\" stroke-linecap=\"round\" style=\"stroke:black;stroke-width:2\" /><line x1=\"298.207\" y1=\"247.777\" x2=\"304.537\" y2=\"244.122\" stroke-linecap=\"round\" style=\"stroke:black;stroke-width:2\" /><line x1=\"304.537\" y1=\"244.122\" x2=\"298.012\" y2=\"246.497\" stroke-linecap=\"round\" style=\"stroke:black;stroke-width:2\" /><line x1=\"298.012\" y1=\"246.497\" x2=\"304.509\" y2=\"245.351\" stroke-linecap=\"round\" style=\"stroke:black;stroke-width:2\" /><line x1=\"304.509\" y1=\"245.351\" x2=\"298.242\" y2=\"245.351\" stroke-linecap=\"round\" style=\"stroke:black;stroke-width:2\" /><line x1=\"298.242\" y1=\"245.351\" x2=\"304.105\" y2=\"246.385\" stroke-linecap=\"round\" style=\"stroke:black;stroke-width:2\" /><line x1=\"304.105\" y1=\"246.385\" x2=\"298.79\" y2=\"244.45\" stroke-linecap=\"round\" style=\"stroke:black;stroke-width:2\" /><line x1=\"298.79\" y1=\"244.45\" x2=\"303.443\" y2=\"247.137\" stroke-linecap=\"round\" style=\"stroke:black;stroke-width:2\" /><line x1=\"303.443\" y1=\"247.137\" x2=\"299.533\" y2=\"243.856\" stroke-linecap=\"round\" style=\"stroke:black;stroke-width:2\" /><line x1=\"299.533\" y1=\"243.856\" x2=\"302.65\" y2=\"247.571\" stroke-linecap=\"round\" style=\"stroke:black;stroke-width:2\" /><line x1=\"302.65\" y1=\"247.571\" x2=\"300.347\" y2=\"243.581\" stroke-linecap=\"round\" style=\"stroke:black;stroke-width:2\" /><line x1=\"300.347\" y1=\"243.581\" x2=\"301.844\" y2=\"247.694\" stroke-linecap=\"round\" style=\"stroke:black;stroke-width:2\" /><line x1=\"301.844\" y1=\"247.694\" x2=\"301.122\" y2=\"243.599\" stroke-linecap=\"round\" style=\"stroke:black;stroke-width:2\" /><line x1=\"301.122\" y1=\"243.599\" x2=\"301.122\" y2=\"247.549\" stroke-linecap=\"round\" style=\"stroke:black;stroke-width:2\" /><line x1=\"301.122\" y1=\"247.549\" x2=\"301.774\" y2=\"243.854\" stroke-linecap=\"round\" style=\"stroke:black;stroke-width:2\" /><line x1=\"301.774\" y1=\"243.854\" x2=\"300.555\" y2=\"247.204\" stroke-linecap=\"round\" style=\"stroke:black;stroke-width:2\" /><line x1=\"300.555\" y1=\"247.204\" x2=\"302.248\" y2=\"244.271\" stroke-linecap=\"round\" style=\"stroke:black;stroke-width:2\" /><line x1=\"302.248\" y1=\"244.271\" x2=\"300.18\" y2=\"246.736\" stroke-linecap=\"round\" style=\"stroke:black;stroke-width:2\" /><line x1=\"300.18\" y1=\"246.736\" x2=\"302.521\" y2=\"244.771\" stroke-linecap=\"round\" style=\"stroke:black;stroke-width:2\" /><line x1=\"302.521\" y1=\"244.771\" x2=\"300.006\" y2=\"246.223\" stroke-linecap=\"round\" style=\"stroke:black;stroke-width:2\" /><line x1=\"300.006\" y1=\"246.223\" x2=\"302.598\" y2=\"245.28\" stroke-linecap=\"round\" style=\"stroke:black;stroke-width:2\" /><line x1=\"302.598\" y1=\"245.28\" x2=\"300.017\" y2=\"245.735\" stroke-linecap=\"round\" style=\"stroke:black;stroke-width:2\" /><line x1=\"300.017\" y1=\"245.735\" x2=\"302.506\" y2=\"245.735\" stroke-linecap=\"round\" style=\"stroke:black;stroke-width:2\" /><line x1=\"302.506\" y1=\"245.735\" x2=\"300.177\" y2=\"245.324\" stroke-linecap=\"round\" style=\"stroke:black;stroke-width:2\" /><line x1=\"300.177\" y1=\"245.324\" x2=\"302.288\" y2=\"246.092\" stroke-linecap=\"round\" style=\"stroke:black;stroke-width:2\" /><line x1=\"302.288\" y1=\"246.092\" x2=\"300.44\" y2=\"245.025\" stroke-linecap=\"round\" style=\"stroke:black;stroke-width:2\" /><line x1=\"300.44\" y1=\"245.025\" x2=\"301.993\" y2=\"246.328\" stroke-linecap=\"round\" style=\"stroke:black;stroke-width:2\" /><line x1=\"301.993\" y1=\"246.328\" x2=\"300.755\" y2=\"244.852\" stroke-linecap=\"round\" style=\"stroke:black;stroke-width:2\" /><line x1=\"300.755\" y1=\"244.852\" x2=\"301.67\" y2=\"246.437\" stroke-linecap=\"round\" style=\"stroke:black;stroke-width:2\" /><line x1=\"301.67\" y1=\"246.437\" x2=\"301.075\" y2=\"244.803\" stroke-linecap=\"round\" style=\"stroke:black;stroke-width:2\" /><line x1=\"301.075\" y1=\"244.803\" x2=\"301.362\" y2=\"246.429\" stroke-linecap=\"round\" style=\"stroke:black;stroke-width:2\" /><line x1=\"301.362\" y1=\"246.429\" x2=\"301.362\" y2=\"244.86\" stroke-linecap=\"round\" style=\"stroke:black;stroke-width:2\" /><line x1=\"301.362\" y1=\"244.86\" x2=\"301.103\" y2=\"246.328\" stroke-linecap=\"round\" style=\"stroke:black;stroke-width:2\" /><line x1=\"301.103\" y1=\"246.328\" x2=\"301.587\" y2=\"244.997\" stroke-linecap=\"round\" style=\"stroke:black;stroke-width:2\" /><line x1=\"301.587\" y1=\"244.997\" x2=\"300.914\" y2=\"246.162\" stroke-linecap=\"round\" style=\"stroke:black;stroke-width:2\" /><line x1=\"300.914\" y1=\"246.162\" x2=\"301.735\" y2=\"245.183\" stroke-linecap=\"round\" style=\"stroke:black;stroke-width:2\" /><line x1=\"301.735\" y1=\"245.183\" x2=\"300.805\" y2=\"245.963\" stroke-linecap=\"round\" style=\"stroke:black;stroke-width:2\" /><line x1=\"300.805\" y1=\"245.963\" x2=\"301.804\" y2=\"245.386\" stroke-linecap=\"round\" style=\"stroke:black;stroke-width:2\" /><line x1=\"301.804\" y1=\"245.386\" x2=\"300.774\" y2=\"245.761\" stroke-linecap=\"round\" style=\"stroke:black;stroke-width:2\" /><line x1=\"300.774\" y1=\"245.761\" x2=\"301.799\" y2=\"245.58\" stroke-linecap=\"round\" style=\"stroke:black;stroke-width:2\" />\n",
              "        \n",
              "        \n",
              "        <g id=\"turtle2\" visibility=\"visible\" transform=\"rotate(260,301.799,245.58) translate(301.799, 245.58)\">\n",
              "<polygon points=\"0,16 2,14 1,10 4,7 7,9 9,8 6,5 7,1 5,-3 8,-6 6,-8 4,-5 0,-7 -4,-5 -6,-8 -8,-6 -5,-3 -7,1 -6,5 -9,8 -7,9 -4,7 -1,10 -2,14\" transform=\"skewX(0) scale(1,1)\" style=\"stroke:black;stroke-width:1;fill:black\" />\n",
              "<animateTransform id = \"one\" attributeName=\"transform\" \n",
              "                      type=\"scale\"\n",
              "                      from=\"1 1\" to=\"1 1\"\n",
              "                      begin=\"0s\" dur=\"0.01s\"\n",
              "                      repeatCount=\"1\"\n",
              "                      additive=\"sum\"\n",
              "                      fill=\"freeze\"\n",
              "                /><animateTransform attributeName=\"transform\"\n",
              "                    type=\"rotate\"\n",
              "                    from=\"0 0 0\" to =\"-170 0 0\"\n",
              "                    begin=\"one.end\" dur=\"0.1511111111111111s\"\n",
              "                    repeatCount=\"1\"\n",
              "                    additive=\"sum\"\n",
              "                    fill=\"freeze\"\n",
              "                /></g>\n",
              "      </svg>\n",
              "    "
            ],
            "text/plain": [
              "<IPython.core.display.HTML object>"
            ]
          },
          "metadata": {},
          "output_type": "display_data"
        }
      ],
      "source": [
        "t.clearscreen()      # it's good to start every cell with this\n",
        "t.setup(500,500)     # setup the drawing area to be 500 pixels x 500 pixels\n",
        "t.showborder()       # show the border of the drawing area\n",
        "\n",
        "t.bgcolor(\"AliceBlue\")   # adjust to your preferences!\n",
        "t.shape(\"turtle2\")\n",
        "t.speed(10)\n",
        "t.width(2)\n",
        "\n",
        "spiral(100, 170, 0.95)"
      ]
    },
    {
      "cell_type": "code",
      "execution_count": 54,
      "metadata": {
        "colab": {
          "base_uri": "https://localhost:8080/",
          "height": 1000
        },
        "id": "osdzdg1HeiSn",
        "outputId": "46e95928-34ea-47df-f179-e9336871ea3d"
      },
      "outputs": [
        {
          "data": {
            "text/html": [
              "\n",
              "      <svg width=\"1000\" height=\"1000\">  \n",
              "        <rect width=\"100%\" height=\"100%\" style=\"fill:aliceblue;stroke:gray;stroke-width:1\"/>\n",
              "        \n",
              "        \n",
              "        <line x1=\"500.0\" y1=\"500.0\" x2=\"900.0\" y2=\"500.0\" stroke-linecap=\"round\" style=\"stroke:black;stroke-width:2\" /><line x1=\"900.0\" y1=\"500.0\" x2=\"740.0\" y2=\"222.872\" stroke-linecap=\"round\" style=\"stroke:black;stroke-width:2\" /><line x1=\"740.0\" y1=\"222.872\" x2=\"612.0\" y2=\"444.575\" stroke-linecap=\"round\" style=\"stroke:black;stroke-width:2\" /><line x1=\"612.0\" y1=\"444.575\" x2=\"816.8\" y2=\"444.575\" stroke-linecap=\"round\" style=\"stroke:black;stroke-width:2\" /><line x1=\"816.8\" y1=\"444.575\" x2=\"734.88\" y2=\"302.685\" stroke-linecap=\"round\" style=\"stroke:black;stroke-width:2\" /><line x1=\"734.88\" y1=\"302.685\" x2=\"669.344\" y2=\"416.197\" stroke-linecap=\"round\" style=\"stroke:black;stroke-width:2\" /><line x1=\"669.344\" y1=\"416.197\" x2=\"774.202\" y2=\"416.197\" stroke-linecap=\"round\" style=\"stroke:black;stroke-width:2\" /><line x1=\"774.202\" y1=\"416.197\" x2=\"732.259\" y2=\"343.55\" stroke-linecap=\"round\" style=\"stroke:black;stroke-width:2\" /><line x1=\"732.259\" y1=\"343.55\" x2=\"698.705\" y2=\"401.668\" stroke-linecap=\"round\" style=\"stroke:black;stroke-width:2\" /><line x1=\"698.705\" y1=\"401.668\" x2=\"752.392\" y2=\"401.668\" stroke-linecap=\"round\" style=\"stroke:black;stroke-width:2\" /><line x1=\"752.392\" y1=\"401.668\" x2=\"730.917\" y2=\"364.472\" stroke-linecap=\"round\" style=\"stroke:black;stroke-width:2\" /><line x1=\"730.917\" y1=\"364.472\" x2=\"713.737\" y2=\"394.228\" stroke-linecap=\"round\" style=\"stroke:black;stroke-width:2\" /><line x1=\"713.737\" y1=\"394.228\" x2=\"741.225\" y2=\"394.228\" stroke-linecap=\"round\" style=\"stroke:black;stroke-width:2\" /><line x1=\"741.225\" y1=\"394.228\" x2=\"730.23\" y2=\"375.184\" stroke-linecap=\"round\" style=\"stroke:black;stroke-width:2\" /><line x1=\"730.23\" y1=\"375.184\" x2=\"721.434\" y2=\"390.419\" stroke-linecap=\"round\" style=\"stroke:black;stroke-width:2\" /><line x1=\"721.434\" y1=\"390.419\" x2=\"735.508\" y2=\"390.419\" stroke-linecap=\"round\" style=\"stroke:black;stroke-width:2\" /><line x1=\"735.508\" y1=\"390.419\" x2=\"729.879\" y2=\"380.668\" stroke-linecap=\"round\" style=\"stroke:black;stroke-width:2\" /><line x1=\"729.879\" y1=\"380.668\" x2=\"725.375\" y2=\"388.468\" stroke-linecap=\"round\" style=\"stroke:black;stroke-width:2\" /><line x1=\"725.375\" y1=\"388.468\" x2=\"732.581\" y2=\"388.468\" stroke-linecap=\"round\" style=\"stroke:black;stroke-width:2\" /><line x1=\"732.581\" y1=\"388.468\" x2=\"729.699\" y2=\"383.476\" stroke-linecap=\"round\" style=\"stroke:black;stroke-width:2\" /><line x1=\"729.699\" y1=\"383.476\" x2=\"727.393\" y2=\"387.47\" stroke-linecap=\"round\" style=\"stroke:black;stroke-width:2\" /><line x1=\"727.393\" y1=\"387.47\" x2=\"731.082\" y2=\"387.47\" stroke-linecap=\"round\" style=\"stroke:black;stroke-width:2\" /><line x1=\"731.082\" y1=\"387.47\" x2=\"729.606\" y2=\"384.914\" stroke-linecap=\"round\" style=\"stroke:black;stroke-width:2\" /><line x1=\"729.606\" y1=\"384.914\" x2=\"728.425\" y2=\"386.959\" stroke-linecap=\"round\" style=\"stroke:black;stroke-width:2\" /><line x1=\"728.425\" y1=\"386.959\" x2=\"730.314\" y2=\"386.959\" stroke-linecap=\"round\" style=\"stroke:black;stroke-width:2\" /><line x1=\"730.314\" y1=\"386.959\" x2=\"729.558\" y2=\"385.65\" stroke-linecap=\"round\" style=\"stroke:black;stroke-width:2\" /><line x1=\"729.558\" y1=\"385.65\" x2=\"728.954\" y2=\"386.697\" stroke-linecap=\"round\" style=\"stroke:black;stroke-width:2\" />\n",
              "        \n",
              "        \n",
              "        <g id=\"turtle2\" visibility=\"visible\" transform=\"rotate(30,728.954,386.697) translate(728.954, 386.697)\">\n",
              "<polygon points=\"0,16 2,14 1,10 4,7 7,9 9,8 6,5 7,1 5,-3 8,-6 6,-8 4,-5 0,-7 -4,-5 -6,-8 -8,-6 -5,-3 -7,1 -6,5 -9,8 -7,9 -4,7 -1,10 -2,14\" transform=\"skewX(0) scale(1,1)\" style=\"stroke:black;stroke-width:1;fill:black\" />\n",
              "<animateTransform id = \"one\" attributeName=\"transform\" \n",
              "                      type=\"scale\"\n",
              "                      from=\"1 1\" to=\"1 1\"\n",
              "                      begin=\"0s\" dur=\"0.01s\"\n",
              "                      repeatCount=\"1\"\n",
              "                      additive=\"sum\"\n",
              "                      fill=\"freeze\"\n",
              "                /><animateTransform attributeName=\"transform\"\n",
              "                    type=\"rotate\"\n",
              "                    from=\"0 0 0\" to =\"-120 0 0\"\n",
              "                    begin=\"one.end\" dur=\"0.10666666666666666s\"\n",
              "                    repeatCount=\"1\"\n",
              "                    additive=\"sum\"\n",
              "                    fill=\"freeze\"\n",
              "                /></g>\n",
              "      </svg>\n",
              "    "
            ],
            "text/plain": [
              "<IPython.core.display.HTML object>"
            ]
          },
          "metadata": {},
          "output_type": "display_data"
        }
      ],
      "source": [
        "t.clearscreen()      # it's good to start every cell with this\n",
        "t.setup(1000,1000)     # setup the drawing area to be 500 pixels x 500 pixels\n",
        "t.showborder()       # show the border of the drawing area\n",
        "\n",
        "t.bgcolor(\"AliceBlue\")   # adjust to your preferences!\n",
        "t.shape(\"turtle2\")\n",
        "t.speed(10)\n",
        "t.width(2)\n",
        "\n",
        "spiral(400, 120, 0.8)"
      ]
    },
    {
      "cell_type": "code",
      "execution_count": 62,
      "metadata": {
        "colab": {
          "base_uri": "https://localhost:8080/",
          "height": 221
        },
        "id": "BM4tpmSte14T",
        "outputId": "dffa6c32-17c5-451a-a516-91d62cb2c2cf"
      },
      "outputs": [
        {
          "data": {
            "text/html": [
              "\n",
              "      <svg width=\"200\" height=\"200\">  \n",
              "        <rect width=\"100%\" height=\"100%\" style=\"fill:aliceblue;stroke:gray;stroke-width:1\"/>\n",
              "        \n",
              "        \n",
              "        <line x1=\"100.0\" y1=\"100.0\" x2=\"150.0\" y2=\"100.0\" stroke-linecap=\"round\" style=\"stroke:black;stroke-width:2\" /><line x1=\"150.0\" y1=\"100.0\" x2=\"133.412\" y2=\"54.425\" stroke-linecap=\"round\" style=\"stroke:black;stroke-width:2\" /><line x1=\"133.412\" y1=\"54.425\" x2=\"97.373\" y2=\"84.665\" stroke-linecap=\"round\" style=\"stroke:black;stroke-width:2\" /><line x1=\"97.373\" y1=\"84.665\" x2=\"136.893\" y2=\"107.482\" stroke-linecap=\"round\" style=\"stroke:black;stroke-width:2\" /><line x1=\"136.893\" y1=\"107.482\" x2=\"144.579\" y2=\"63.89\" stroke-linecap=\"round\" style=\"stroke:black;stroke-width:2\" /><line x1=\"144.579\" y1=\"63.89\" x2=\"102.295\" y2=\"71.346\" stroke-linecap=\"round\" style=\"stroke:black;stroke-width:2\" /><line x1=\"102.295\" y1=\"71.346\" x2=\"123.119\" y2=\"107.415\" stroke-linecap=\"round\" style=\"stroke:black;stroke-width:2\" /><line x1=\"123.119\" y1=\"107.415\" x2=\"149.087\" y2=\"76.467\" stroke-linecap=\"round\" style=\"stroke:black;stroke-width:2\" /><line x1=\"149.087\" y1=\"76.467\" x2=\"112.263\" y2=\"63.064\" stroke-linecap=\"round\" style=\"stroke:black;stroke-width:2\" /><line x1=\"112.263\" y1=\"63.064\" x2=\"112.263\" y2=\"101.076\" stroke-linecap=\"round\" style=\"stroke:black;stroke-width:2\" /><line x1=\"112.263\" y1=\"101.076\" x2=\"146.911\" y2=\"88.465\" stroke-linecap=\"round\" style=\"stroke:black;stroke-width:2\" /><line x1=\"146.911\" y1=\"88.465\" x2=\"123.922\" y2=\"61.067\" stroke-linecap=\"round\" style=\"stroke:black;stroke-width:2\" /><line x1=\"123.922\" y1=\"61.067\" x2=\"106.576\" y2=\"91.111\" stroke-linecap=\"round\" style=\"stroke:black;stroke-width:2\" /><line x1=\"106.576\" y1=\"91.111\" x2=\"139.716\" y2=\"96.954\" stroke-linecap=\"round\" style=\"stroke:black;stroke-width:2\" /><line x1=\"139.716\" y1=\"96.954\" x2=\"134.048\" y2=\"64.808\" stroke-linecap=\"round\" style=\"stroke:black;stroke-width:2\" /><line x1=\"134.048\" y1=\"64.808\" x2=\"106.627\" y2=\"80.639\" stroke-linecap=\"round\" style=\"stroke:black;stroke-width:2\" /><line x1=\"106.627\" y1=\"80.639\" x2=\"130.154\" y2=\"100.381\" stroke-linecap=\"round\" style=\"stroke:black;stroke-width:2\" /><line x1=\"130.154\" y1=\"100.381\" x2=\"140.343\" y2=\"72.386\" stroke-linecap=\"round\" style=\"stroke:black;stroke-width:2\" /><line x1=\"140.343\" y1=\"72.386\" x2=\"111.445\" y2=\"72.386\" stroke-linecap=\"round\" style=\"stroke:black;stroke-width:2\" /><line x1=\"111.445\" y1=\"72.386\" x2=\"121.032\" y2=\"98.726\" stroke-linecap=\"round\" style=\"stroke:black;stroke-width:2\" /><line x1=\"121.032\" y1=\"98.726\" x2=\"141.861\" y2=\"81.249\" stroke-linecap=\"round\" style=\"stroke:black;stroke-width:2\" /><line x1=\"141.861\" y1=\"81.249\" x2=\"119.02\" y2=\"68.062\" stroke-linecap=\"round\" style=\"stroke:black;stroke-width:2\" /><line x1=\"119.02\" y1=\"68.062\" x2=\"114.578\" y2=\"93.256\" stroke-linecap=\"round\" style=\"stroke:black;stroke-width:2\" /><line x1=\"114.578\" y1=\"93.256\" x2=\"139.016\" y2=\"88.947\" stroke-linecap=\"round\" style=\"stroke:black;stroke-width:2\" /><line x1=\"139.016\" y1=\"88.947\" x2=\"126.981\" y2=\"68.101\" stroke-linecap=\"round\" style=\"stroke:black;stroke-width:2\" /><line x1=\"126.981\" y1=\"68.101\" x2=\"111.973\" y2=\"85.987\" stroke-linecap=\"round\" style=\"stroke:black;stroke-width:2\" /><line x1=\"111.973\" y1=\"85.987\" x2=\"133.255\" y2=\"93.733\" stroke-linecap=\"round\" style=\"stroke:black;stroke-width:2\" /><line x1=\"133.255\" y1=\"93.733\" x2=\"133.255\" y2=\"71.764\" stroke-linecap=\"round\" style=\"stroke:black;stroke-width:2\" /><line x1=\"133.255\" y1=\"71.764\" x2=\"113.23\" y2=\"79.052\" stroke-linecap=\"round\" style=\"stroke:black;stroke-width:2\" /><line x1=\"113.23\" y1=\"79.052\" x2=\"126.517\" y2=\"94.886\" stroke-linecap=\"round\" style=\"stroke:black;stroke-width:2\" /><line x1=\"126.517\" y1=\"94.886\" x2=\"136.542\" y2=\"77.522\" stroke-linecap=\"round\" style=\"stroke:black;stroke-width:2\" /><line x1=\"136.542\" y1=\"77.522\" x2=\"117.389\" y2=\"74.145\" stroke-linecap=\"round\" style=\"stroke:black;stroke-width:2\" /><line x1=\"117.389\" y1=\"74.145\" x2=\"120.665\" y2=\"92.724\" stroke-linecap=\"round\" style=\"stroke:black;stroke-width:2\" /><line x1=\"120.665\" y1=\"92.724\" x2=\"136.513\" y2=\"83.574\" stroke-linecap=\"round\" style=\"stroke:black;stroke-width:2\" /><line x1=\"136.513\" y1=\"83.574\" x2=\"122.915\" y2=\"72.164\" stroke-linecap=\"round\" style=\"stroke:black;stroke-width:2\" /><line x1=\"122.915\" y1=\"72.164\" x2=\"117.026\" y2=\"88.344\" stroke-linecap=\"round\" style=\"stroke:black;stroke-width:2\" /><line x1=\"117.026\" y1=\"88.344\" x2=\"133.727\" y2=\"88.344\" stroke-linecap=\"round\" style=\"stroke:black;stroke-width:2\" /><line x1=\"133.727\" y1=\"88.344\" x2=\"128.186\" y2=\"73.121\" stroke-linecap=\"round\" style=\"stroke:black;stroke-width:2\" /><line x1=\"128.186\" y1=\"73.121\" x2=\"116.148\" y2=\"83.222\" stroke-linecap=\"round\" style=\"stroke:black;stroke-width:2\" /><line x1=\"116.148\" y1=\"83.222\" x2=\"129.349\" y2=\"90.843\" stroke-linecap=\"round\" style=\"stroke:black;stroke-width:2\" /><line x1=\"129.349\" y1=\"90.843\" x2=\"131.916\" y2=\"76.282\" stroke-linecap=\"round\" style=\"stroke:black;stroke-width:2\" /><line x1=\"131.916\" y1=\"76.282\" x2=\"117.792\" y2=\"78.772\" stroke-linecap=\"round\" style=\"stroke:black;stroke-width:2\" /><line x1=\"117.792\" y1=\"78.772\" x2=\"124.748\" y2=\"90.82\" stroke-linecap=\"round\" style=\"stroke:black;stroke-width:2\" /><line x1=\"124.748\" y1=\"90.82\" x2=\"133.422\" y2=\"80.483\" stroke-linecap=\"round\" style=\"stroke:black;stroke-width:2\" /><line x1=\"133.422\" y1=\"80.483\" x2=\"121.122\" y2=\"76.006\" stroke-linecap=\"round\" style=\"stroke:black;stroke-width:2\" /><line x1=\"121.122\" y1=\"76.006\" x2=\"121.122\" y2=\"88.703\" stroke-linecap=\"round\" style=\"stroke:black;stroke-width:2\" /><line x1=\"121.122\" y1=\"88.703\" x2=\"132.695\" y2=\"84.491\" stroke-linecap=\"round\" style=\"stroke:black;stroke-width:2\" /><line x1=\"132.695\" y1=\"84.491\" x2=\"125.016\" y2=\"75.339\" stroke-linecap=\"round\" style=\"stroke:black;stroke-width:2\" /><line x1=\"125.016\" y1=\"75.339\" x2=\"119.222\" y2=\"85.375\" stroke-linecap=\"round\" style=\"stroke:black;stroke-width:2\" /><line x1=\"119.222\" y1=\"85.375\" x2=\"130.292\" y2=\"87.327\" stroke-linecap=\"round\" style=\"stroke:black;stroke-width:2\" /><line x1=\"130.292\" y1=\"87.327\" x2=\"128.399\" y2=\"76.589\" stroke-linecap=\"round\" style=\"stroke:black;stroke-width:2\" /><line x1=\"128.399\" y1=\"76.589\" x2=\"119.24\" y2=\"81.877\" stroke-linecap=\"round\" style=\"stroke:black;stroke-width:2\" /><line x1=\"119.24\" y1=\"81.877\" x2=\"127.099\" y2=\"88.471\" stroke-linecap=\"round\" style=\"stroke:black;stroke-width:2\" /><line x1=\"127.099\" y1=\"88.471\" x2=\"130.502\" y2=\"79.12\" stroke-linecap=\"round\" style=\"stroke:black;stroke-width:2\" /><line x1=\"130.502\" y1=\"79.12\" x2=\"120.849\" y2=\"79.12\" stroke-linecap=\"round\" style=\"stroke:black;stroke-width:2\" /><line x1=\"120.849\" y1=\"79.12\" x2=\"124.051\" y2=\"87.918\" stroke-linecap=\"round\" style=\"stroke:black;stroke-width:2\" /><line x1=\"124.051\" y1=\"87.918\" x2=\"131.008\" y2=\"82.08\" stroke-linecap=\"round\" style=\"stroke:black;stroke-width:2\" /><line x1=\"131.008\" y1=\"82.08\" x2=\"123.379\" y2=\"77.675\" stroke-linecap=\"round\" style=\"stroke:black;stroke-width:2\" /><line x1=\"123.379\" y1=\"77.675\" x2=\"121.895\" y2=\"86.091\" stroke-linecap=\"round\" style=\"stroke:black;stroke-width:2\" /><line x1=\"121.895\" y1=\"86.091\" x2=\"130.058\" y2=\"84.652\" stroke-linecap=\"round\" style=\"stroke:black;stroke-width:2\" /><line x1=\"130.058\" y1=\"84.652\" x2=\"126.038\" y2=\"77.689\" stroke-linecap=\"round\" style=\"stroke:black;stroke-width:2\" /><line x1=\"126.038\" y1=\"77.689\" x2=\"121.025\" y2=\"83.663\" stroke-linecap=\"round\" style=\"stroke:black;stroke-width:2\" /><line x1=\"121.025\" y1=\"83.663\" x2=\"128.134\" y2=\"86.25\" stroke-linecap=\"round\" style=\"stroke:black;stroke-width:2\" /><line x1=\"128.134\" y1=\"86.25\" x2=\"128.134\" y2=\"78.912\" stroke-linecap=\"round\" style=\"stroke:black;stroke-width:2\" /><line x1=\"128.134\" y1=\"78.912\" x2=\"121.445\" y2=\"81.347\" stroke-linecap=\"round\" style=\"stroke:black;stroke-width:2\" /><line x1=\"121.445\" y1=\"81.347\" x2=\"125.883\" y2=\"86.636\" stroke-linecap=\"round\" style=\"stroke:black;stroke-width:2\" /><line x1=\"125.883\" y1=\"86.636\" x2=\"129.232\" y2=\"80.836\" stroke-linecap=\"round\" style=\"stroke:black;stroke-width:2\" /><line x1=\"129.232\" y1=\"80.836\" x2=\"122.834\" y2=\"79.708\" stroke-linecap=\"round\" style=\"stroke:black;stroke-width:2\" /><line x1=\"122.834\" y1=\"79.708\" x2=\"123.928\" y2=\"85.914\" stroke-linecap=\"round\" style=\"stroke:black;stroke-width:2\" /><line x1=\"123.928\" y1=\"85.914\" x2=\"129.222\" y2=\"82.858\" stroke-linecap=\"round\" style=\"stroke:black;stroke-width:2\" /><line x1=\"129.222\" y1=\"82.858\" x2=\"124.68\" y2=\"79.047\" stroke-linecap=\"round\" style=\"stroke:black;stroke-width:2\" /><line x1=\"124.68\" y1=\"79.047\" x2=\"122.713\" y2=\"84.451\" stroke-linecap=\"round\" style=\"stroke:black;stroke-width:2\" /><line x1=\"122.713\" y1=\"84.451\" x2=\"128.292\" y2=\"84.451\" stroke-linecap=\"round\" style=\"stroke:black;stroke-width:2\" /><line x1=\"128.292\" y1=\"84.451\" x2=\"126.441\" y2=\"79.366\" stroke-linecap=\"round\" style=\"stroke:black;stroke-width:2\" /><line x1=\"126.441\" y1=\"79.366\" x2=\"122.42\" y2=\"82.74\" stroke-linecap=\"round\" style=\"stroke:black;stroke-width:2\" /><line x1=\"122.42\" y1=\"82.74\" x2=\"126.829\" y2=\"85.286\" stroke-linecap=\"round\" style=\"stroke:black;stroke-width:2\" /><line x1=\"126.829\" y1=\"85.286\" x2=\"127.687\" y2=\"80.422\" stroke-linecap=\"round\" style=\"stroke:black;stroke-width:2\" /><line x1=\"127.687\" y1=\"80.422\" x2=\"122.969\" y2=\"81.254\" stroke-linecap=\"round\" style=\"stroke:black;stroke-width:2\" /><line x1=\"122.969\" y1=\"81.254\" x2=\"125.292\" y2=\"85.278\" stroke-linecap=\"round\" style=\"stroke:black;stroke-width:2\" /><line x1=\"125.292\" y1=\"85.278\" x2=\"128.189\" y2=\"81.825\" stroke-linecap=\"round\" style=\"stroke:black;stroke-width:2\" /><line x1=\"128.189\" y1=\"81.825\" x2=\"124.08\" y2=\"80.33\" stroke-linecap=\"round\" style=\"stroke:black;stroke-width:2\" /><line x1=\"124.08\" y1=\"80.33\" x2=\"124.08\" y2=\"84.571\" stroke-linecap=\"round\" style=\"stroke:black;stroke-width:2\" /><line x1=\"124.08\" y1=\"84.571\" x2=\"127.946\" y2=\"83.164\" stroke-linecap=\"round\" style=\"stroke:black;stroke-width:2\" /><line x1=\"127.946\" y1=\"83.164\" x2=\"125.381\" y2=\"80.107\" stroke-linecap=\"round\" style=\"stroke:black;stroke-width:2\" /><line x1=\"125.381\" y1=\"80.107\" x2=\"123.446\" y2=\"83.459\" stroke-linecap=\"round\" style=\"stroke:black;stroke-width:2\" /><line x1=\"123.446\" y1=\"83.459\" x2=\"127.144\" y2=\"84.111\" stroke-linecap=\"round\" style=\"stroke:black;stroke-width:2\" /><line x1=\"127.144\" y1=\"84.111\" x2=\"126.512\" y2=\"80.524\" stroke-linecap=\"round\" style=\"stroke:black;stroke-width:2\" /><line x1=\"126.512\" y1=\"80.524\" x2=\"123.453\" y2=\"82.29\" stroke-linecap=\"round\" style=\"stroke:black;stroke-width:2\" /><line x1=\"123.453\" y1=\"82.29\" x2=\"126.078\" y2=\"84.493\" stroke-linecap=\"round\" style=\"stroke:black;stroke-width:2\" /><line x1=\"126.078\" y1=\"84.493\" x2=\"127.215\" y2=\"81.37\" stroke-linecap=\"round\" style=\"stroke:black;stroke-width:2\" /><line x1=\"127.215\" y1=\"81.37\" x2=\"123.991\" y2=\"81.37\" stroke-linecap=\"round\" style=\"stroke:black;stroke-width:2\" /><line x1=\"123.991\" y1=\"81.37\" x2=\"125.061\" y2=\"84.309\" stroke-linecap=\"round\" style=\"stroke:black;stroke-width:2\" /><line x1=\"125.061\" y1=\"84.309\" x2=\"127.385\" y2=\"82.359\" stroke-linecap=\"round\" style=\"stroke:black;stroke-width:2\" /><line x1=\"127.385\" y1=\"82.359\" x2=\"124.837\" y2=\"80.888\" stroke-linecap=\"round\" style=\"stroke:black;stroke-width:2\" /><line x1=\"124.837\" y1=\"80.888\" x2=\"124.341\" y2=\"83.699\" stroke-linecap=\"round\" style=\"stroke:black;stroke-width:2\" /><line x1=\"124.341\" y1=\"83.699\" x2=\"127.068\" y2=\"83.218\" stroke-linecap=\"round\" style=\"stroke:black;stroke-width:2\" /><line x1=\"127.068\" y1=\"83.218\" x2=\"125.725\" y2=\"80.892\" stroke-linecap=\"round\" style=\"stroke:black;stroke-width:2\" /><line x1=\"125.725\" y1=\"80.892\" x2=\"124.05\" y2=\"82.888\" stroke-linecap=\"round\" style=\"stroke:black;stroke-width:2\" /><line x1=\"124.05\" y1=\"82.888\" x2=\"126.425\" y2=\"83.752\" stroke-linecap=\"round\" style=\"stroke:black;stroke-width:2\" /><line x1=\"126.425\" y1=\"83.752\" x2=\"126.425\" y2=\"81.301\" stroke-linecap=\"round\" style=\"stroke:black;stroke-width:2\" /><line x1=\"126.425\" y1=\"81.301\" x2=\"124.191\" y2=\"82.114\" stroke-linecap=\"round\" style=\"stroke:black;stroke-width:2\" /><line x1=\"124.191\" y1=\"82.114\" x2=\"125.673\" y2=\"83.881\" stroke-linecap=\"round\" style=\"stroke:black;stroke-width:2\" /><line x1=\"125.673\" y1=\"83.881\" x2=\"126.792\" y2=\"81.944\" stroke-linecap=\"round\" style=\"stroke:black;stroke-width:2\" /><line x1=\"126.792\" y1=\"81.944\" x2=\"124.655\" y2=\"81.567\" stroke-linecap=\"round\" style=\"stroke:black;stroke-width:2\" /><line x1=\"124.655\" y1=\"81.567\" x2=\"125.021\" y2=\"83.64\" stroke-linecap=\"round\" style=\"stroke:black;stroke-width:2\" /><line x1=\"125.021\" y1=\"83.64\" x2=\"126.789\" y2=\"82.619\" stroke-linecap=\"round\" style=\"stroke:black;stroke-width:2\" /><line x1=\"126.789\" y1=\"82.619\" x2=\"125.272\" y2=\"81.346\" stroke-linecap=\"round\" style=\"stroke:black;stroke-width:2\" /><line x1=\"125.272\" y1=\"81.346\" x2=\"124.615\" y2=\"83.151\" stroke-linecap=\"round\" style=\"stroke:black;stroke-width:2\" /><line x1=\"124.615\" y1=\"83.151\" x2=\"126.478\" y2=\"83.151\" stroke-linecap=\"round\" style=\"stroke:black;stroke-width:2\" /><line x1=\"126.478\" y1=\"83.151\" x2=\"125.86\" y2=\"81.452\" stroke-linecap=\"round\" style=\"stroke:black;stroke-width:2\" /><line x1=\"125.86\" y1=\"81.452\" x2=\"124.517\" y2=\"82.579\" stroke-linecap=\"round\" style=\"stroke:black;stroke-width:2\" /><line x1=\"124.517\" y1=\"82.579\" x2=\"125.99\" y2=\"83.429\" stroke-linecap=\"round\" style=\"stroke:black;stroke-width:2\" /><line x1=\"125.99\" y1=\"83.429\" x2=\"126.276\" y2=\"81.804\" stroke-linecap=\"round\" style=\"stroke:black;stroke-width:2\" /><line x1=\"126.276\" y1=\"81.804\" x2=\"124.7\" y2=\"82.082\" stroke-linecap=\"round\" style=\"stroke:black;stroke-width:2\" /><line x1=\"124.7\" y1=\"82.082\" x2=\"125.476\" y2=\"83.426\" stroke-linecap=\"round\" style=\"stroke:black;stroke-width:2\" /><line x1=\"125.476\" y1=\"83.426\" x2=\"126.444\" y2=\"82.273\" stroke-linecap=\"round\" style=\"stroke:black;stroke-width:2\" /><line x1=\"126.444\" y1=\"82.273\" x2=\"125.072\" y2=\"81.773\" stroke-linecap=\"round\" style=\"stroke:black;stroke-width:2\" /><line x1=\"125.072\" y1=\"81.773\" x2=\"125.072\" y2=\"83.19\" stroke-linecap=\"round\" style=\"stroke:black;stroke-width:2\" /><line x1=\"125.072\" y1=\"83.19\" x2=\"126.363\" y2=\"82.72\" stroke-linecap=\"round\" style=\"stroke:black;stroke-width:2\" /><line x1=\"126.363\" y1=\"82.72\" x2=\"125.506\" y2=\"81.699\" stroke-linecap=\"round\" style=\"stroke:black;stroke-width:2\" /><line x1=\"125.506\" y1=\"81.699\" x2=\"124.86\" y2=\"82.819\" stroke-linecap=\"round\" style=\"stroke:black;stroke-width:2\" /><line x1=\"124.86\" y1=\"82.819\" x2=\"126.095\" y2=\"83.037\" stroke-linecap=\"round\" style=\"stroke:black;stroke-width:2\" /><line x1=\"126.095\" y1=\"83.037\" x2=\"125.884\" y2=\"81.839\" stroke-linecap=\"round\" style=\"stroke:black;stroke-width:2\" /><line x1=\"125.884\" y1=\"81.839\" x2=\"124.862\" y2=\"82.429\" stroke-linecap=\"round\" style=\"stroke:black;stroke-width:2\" /><line x1=\"124.862\" y1=\"82.429\" x2=\"125.739\" y2=\"83.165\" stroke-linecap=\"round\" style=\"stroke:black;stroke-width:2\" /><line x1=\"125.739\" y1=\"83.165\" x2=\"126.119\" y2=\"82.122\" stroke-linecap=\"round\" style=\"stroke:black;stroke-width:2\" /><line x1=\"126.119\" y1=\"82.122\" x2=\"125.042\" y2=\"82.122\" stroke-linecap=\"round\" style=\"stroke:black;stroke-width:2\" /><line x1=\"125.042\" y1=\"82.122\" x2=\"125.399\" y2=\"83.104\" stroke-linecap=\"round\" style=\"stroke:black;stroke-width:2\" /><line x1=\"125.399\" y1=\"83.104\" x2=\"126.175\" y2=\"82.453\" stroke-linecap=\"round\" style=\"stroke:black;stroke-width:2\" />\n",
              "        \n",
              "        \n",
              "        <g id=\"turtle2\" visibility=\"visible\" transform=\"rotate(230,126.175,82.453) translate(126.175, 82.453)\">\n",
              "<polygon points=\"0,16 2,14 1,10 4,7 7,9 9,8 6,5 7,1 5,-3 8,-6 6,-8 4,-5 0,-7 -4,-5 -6,-8 -8,-6 -5,-3 -7,1 -6,5 -9,8 -7,9 -4,7 -1,10 -2,14\" transform=\"skewX(0) scale(1,1)\" style=\"stroke:black;stroke-width:1;fill:black\" />\n",
              "<animateTransform id = \"one\" attributeName=\"transform\" \n",
              "                      type=\"scale\"\n",
              "                      from=\"1 1\" to=\"1 1\"\n",
              "                      begin=\"0s\" dur=\"0.01s\"\n",
              "                      repeatCount=\"1\"\n",
              "                      additive=\"sum\"\n",
              "                      fill=\"freeze\"\n",
              "                /><animateTransform attributeName=\"transform\"\n",
              "                    type=\"rotate\"\n",
              "                    from=\"0 0 0\" to =\"-110 0 0\"\n",
              "                    begin=\"one.end\" dur=\"0.09777777777777778s\"\n",
              "                    repeatCount=\"1\"\n",
              "                    additive=\"sum\"\n",
              "                    fill=\"freeze\"\n",
              "                /></g>\n",
              "      </svg>\n",
              "    "
            ],
            "text/plain": [
              "<IPython.core.display.HTML object>"
            ]
          },
          "metadata": {},
          "output_type": "display_data"
        }
      ],
      "source": [
        "t.clearscreen()      # it's good to start every cell with this\n",
        "t.setup(200,200)     # setup the drawing area to be 500 pixels x 500 pixels\n",
        "t.showborder()       # show the border of the drawing area\n",
        "\n",
        "t.bgcolor(\"AliceBlue\")   # adjust to your preferences!\n",
        "t.shape(\"turtle2\")\n",
        "t.speed(10)\n",
        "t.width(2)\n",
        "\n",
        "spiral(50, 110, 0.97)"
      ]
    },
    {
      "cell_type": "markdown",
      "metadata": {
        "id": "chvTfOrEoheL"
      },
      "source": [
        " ## <b>Turtle Task #3: <i>Recursive Chai</i></b>  </font>\n",
        "\n",
        " <i><b>Branching</b></i> recursion!\n"
      ]
    },
    {
      "cell_type": "markdown",
      "metadata": {
        "id": "A1pc8iIyo7JP"
      },
      "source": [
        "## <b>The `chai` function: branching recursion </b> \n",
        "\n",
        "Now to _branching-recursion_."
      ]
    },
    {
      "cell_type": "code",
      "execution_count": 186,
      "metadata": {
        "colab": {
          "base_uri": "https://localhost:8080/",
          "height": 521
        },
        "id": "4i16KGnQDc7o",
        "outputId": "cb684ce2-0a12-4b36-c5b6-998d24a26bd2"
      },
      "outputs": [
        {
          "data": {
            "text/html": [
              "\n",
              "      <svg width=\"500\" height=\"500\">  \n",
              "        <rect width=\"100%\" height=\"100%\" style=\"fill:aliceblue;stroke:gray;stroke-width:1\"/>\n",
              "        \n",
              "        \n",
              "        <line x1=\"250.0\" y1=\"250.0\" x2=\"350.0\" y2=\"250.0\" stroke-linecap=\"round\" style=\"stroke:black;stroke-width:2\" /><line x1=\"350.0\" y1=\"250.0\" x2=\"350.0\" y2=\"200.0\" stroke-linecap=\"round\" style=\"stroke:black;stroke-width:2\" /><line x1=\"350.0\" y1=\"200.0\" x2=\"400.0\" y2=\"200.0\" stroke-linecap=\"round\" style=\"stroke:black;stroke-width:2\" /><line x1=\"400.0\" y1=\"200.0\" x2=\"400.0\" y2=\"175.0\" stroke-linecap=\"round\" style=\"stroke:black;stroke-width:2\" /><line x1=\"400.0\" y1=\"175.0\" x2=\"425.0\" y2=\"175.0\" stroke-linecap=\"round\" style=\"stroke:black;stroke-width:2\" /><line x1=\"425.0\" y1=\"175.0\" x2=\"425.0\" y2=\"162.5\" stroke-linecap=\"round\" style=\"stroke:black;stroke-width:2\" /><line x1=\"425.0\" y1=\"162.5\" x2=\"437.5\" y2=\"162.5\" stroke-linecap=\"round\" style=\"stroke:black;stroke-width:2\" /><line x1=\"437.5\" y1=\"162.5\" x2=\"437.5\" y2=\"156.25\" stroke-linecap=\"round\" style=\"stroke:black;stroke-width:2\" /><line x1=\"437.5\" y1=\"156.25\" x2=\"443.75\" y2=\"156.25\" stroke-linecap=\"round\" style=\"stroke:black;stroke-width:2\" /><line x1=\"443.75\" y1=\"156.25\" x2=\"443.75\" y2=\"153.125\" stroke-linecap=\"round\" style=\"stroke:black;stroke-width:2\" /><line x1=\"443.75\" y1=\"153.125\" x2=\"443.75\" y2=\"159.375\" stroke-linecap=\"round\" style=\"stroke:black;stroke-width:2\" /><line x1=\"443.75\" y1=\"159.375\" x2=\"443.75\" y2=\"156.25\" stroke-linecap=\"round\" style=\"stroke:black;stroke-width:2\" /><line x1=\"443.75\" y1=\"156.25\" x2=\"437.5\" y2=\"156.25\" stroke-linecap=\"round\" style=\"stroke:black;stroke-width:2\" /><line x1=\"437.5\" y1=\"156.25\" x2=\"437.5\" y2=\"168.75\" stroke-linecap=\"round\" style=\"stroke:black;stroke-width:2\" /><line x1=\"437.5\" y1=\"168.75\" x2=\"443.75\" y2=\"168.75\" stroke-linecap=\"round\" style=\"stroke:black;stroke-width:2\" /><line x1=\"443.75\" y1=\"168.75\" x2=\"443.75\" y2=\"165.625\" stroke-linecap=\"round\" style=\"stroke:black;stroke-width:2\" /><line x1=\"443.75\" y1=\"165.625\" x2=\"443.75\" y2=\"171.875\" stroke-linecap=\"round\" style=\"stroke:black;stroke-width:2\" /><line x1=\"443.75\" y1=\"171.875\" x2=\"443.75\" y2=\"168.75\" stroke-linecap=\"round\" style=\"stroke:black;stroke-width:2\" /><line x1=\"443.75\" y1=\"168.75\" x2=\"437.5\" y2=\"168.75\" stroke-linecap=\"round\" style=\"stroke:black;stroke-width:2\" /><line x1=\"437.5\" y1=\"168.75\" x2=\"437.5\" y2=\"162.5\" stroke-linecap=\"round\" style=\"stroke:black;stroke-width:2\" /><line x1=\"437.5\" y1=\"162.5\" x2=\"425.0\" y2=\"162.5\" stroke-linecap=\"round\" style=\"stroke:black;stroke-width:2\" /><line x1=\"425.0\" y1=\"162.5\" x2=\"425.0\" y2=\"187.5\" stroke-linecap=\"round\" style=\"stroke:black;stroke-width:2\" /><line x1=\"425.0\" y1=\"187.5\" x2=\"437.5\" y2=\"187.5\" stroke-linecap=\"round\" style=\"stroke:black;stroke-width:2\" /><line x1=\"437.5\" y1=\"187.5\" x2=\"437.5\" y2=\"181.25\" stroke-linecap=\"round\" style=\"stroke:black;stroke-width:2\" /><line x1=\"437.5\" y1=\"181.25\" x2=\"443.75\" y2=\"181.25\" stroke-linecap=\"round\" style=\"stroke:black;stroke-width:2\" /><line x1=\"443.75\" y1=\"181.25\" x2=\"443.75\" y2=\"178.125\" stroke-linecap=\"round\" style=\"stroke:black;stroke-width:2\" /><line x1=\"443.75\" y1=\"178.125\" x2=\"443.75\" y2=\"184.375\" stroke-linecap=\"round\" style=\"stroke:black;stroke-width:2\" /><line x1=\"443.75\" y1=\"184.375\" x2=\"443.75\" y2=\"181.25\" stroke-linecap=\"round\" style=\"stroke:black;stroke-width:2\" /><line x1=\"443.75\" y1=\"181.25\" x2=\"437.5\" y2=\"181.25\" stroke-linecap=\"round\" style=\"stroke:black;stroke-width:2\" /><line x1=\"437.5\" y1=\"181.25\" x2=\"437.5\" y2=\"193.75\" stroke-linecap=\"round\" style=\"stroke:black;stroke-width:2\" /><line x1=\"437.5\" y1=\"193.75\" x2=\"443.75\" y2=\"193.75\" stroke-linecap=\"round\" style=\"stroke:black;stroke-width:2\" /><line x1=\"443.75\" y1=\"193.75\" x2=\"443.75\" y2=\"190.625\" stroke-linecap=\"round\" style=\"stroke:black;stroke-width:2\" /><line x1=\"443.75\" y1=\"190.625\" x2=\"443.75\" y2=\"196.875\" stroke-linecap=\"round\" style=\"stroke:black;stroke-width:2\" /><line x1=\"443.75\" y1=\"196.875\" x2=\"443.75\" y2=\"193.75\" stroke-linecap=\"round\" style=\"stroke:black;stroke-width:2\" /><line x1=\"443.75\" y1=\"193.75\" x2=\"437.5\" y2=\"193.75\" stroke-linecap=\"round\" style=\"stroke:black;stroke-width:2\" /><line x1=\"437.5\" y1=\"193.75\" x2=\"437.5\" y2=\"187.5\" stroke-linecap=\"round\" style=\"stroke:black;stroke-width:2\" /><line x1=\"437.5\" y1=\"187.5\" x2=\"425.0\" y2=\"187.5\" stroke-linecap=\"round\" style=\"stroke:black;stroke-width:2\" /><line x1=\"425.0\" y1=\"187.5\" x2=\"425.0\" y2=\"175.0\" stroke-linecap=\"round\" style=\"stroke:black;stroke-width:2\" /><line x1=\"425.0\" y1=\"175.0\" x2=\"400.0\" y2=\"175.0\" stroke-linecap=\"round\" style=\"stroke:black;stroke-width:2\" /><line x1=\"400.0\" y1=\"175.0\" x2=\"400.0\" y2=\"225.0\" stroke-linecap=\"round\" style=\"stroke:black;stroke-width:2\" /><line x1=\"400.0\" y1=\"225.0\" x2=\"425.0\" y2=\"225.0\" stroke-linecap=\"round\" style=\"stroke:black;stroke-width:2\" /><line x1=\"425.0\" y1=\"225.0\" x2=\"425.0\" y2=\"212.5\" stroke-linecap=\"round\" style=\"stroke:black;stroke-width:2\" /><line x1=\"425.0\" y1=\"212.5\" x2=\"437.5\" y2=\"212.5\" stroke-linecap=\"round\" style=\"stroke:black;stroke-width:2\" /><line x1=\"437.5\" y1=\"212.5\" x2=\"437.5\" y2=\"206.25\" stroke-linecap=\"round\" style=\"stroke:black;stroke-width:2\" /><line x1=\"437.5\" y1=\"206.25\" x2=\"443.75\" y2=\"206.25\" stroke-linecap=\"round\" style=\"stroke:black;stroke-width:2\" /><line x1=\"443.75\" y1=\"206.25\" x2=\"443.75\" y2=\"203.125\" stroke-linecap=\"round\" style=\"stroke:black;stroke-width:2\" /><line x1=\"443.75\" y1=\"203.125\" x2=\"443.75\" y2=\"209.375\" stroke-linecap=\"round\" style=\"stroke:black;stroke-width:2\" /><line x1=\"443.75\" y1=\"209.375\" x2=\"443.75\" y2=\"206.25\" stroke-linecap=\"round\" style=\"stroke:black;stroke-width:2\" /><line x1=\"443.75\" y1=\"206.25\" x2=\"437.5\" y2=\"206.25\" stroke-linecap=\"round\" style=\"stroke:black;stroke-width:2\" /><line x1=\"437.5\" y1=\"206.25\" x2=\"437.5\" y2=\"218.75\" stroke-linecap=\"round\" style=\"stroke:black;stroke-width:2\" /><line x1=\"437.5\" y1=\"218.75\" x2=\"443.75\" y2=\"218.75\" stroke-linecap=\"round\" style=\"stroke:black;stroke-width:2\" /><line x1=\"443.75\" y1=\"218.75\" x2=\"443.75\" y2=\"215.625\" stroke-linecap=\"round\" style=\"stroke:black;stroke-width:2\" /><line x1=\"443.75\" y1=\"215.625\" x2=\"443.75\" y2=\"221.875\" stroke-linecap=\"round\" style=\"stroke:black;stroke-width:2\" /><line x1=\"443.75\" y1=\"221.875\" x2=\"443.75\" y2=\"218.75\" stroke-linecap=\"round\" style=\"stroke:black;stroke-width:2\" /><line x1=\"443.75\" y1=\"218.75\" x2=\"437.5\" y2=\"218.75\" stroke-linecap=\"round\" style=\"stroke:black;stroke-width:2\" /><line x1=\"437.5\" y1=\"218.75\" x2=\"437.5\" y2=\"212.5\" stroke-linecap=\"round\" style=\"stroke:black;stroke-width:2\" /><line x1=\"437.5\" y1=\"212.5\" x2=\"425.0\" y2=\"212.5\" stroke-linecap=\"round\" style=\"stroke:black;stroke-width:2\" /><line x1=\"425.0\" y1=\"212.5\" x2=\"425.0\" y2=\"237.5\" stroke-linecap=\"round\" style=\"stroke:black;stroke-width:2\" /><line x1=\"425.0\" y1=\"237.5\" x2=\"437.5\" y2=\"237.5\" stroke-linecap=\"round\" style=\"stroke:black;stroke-width:2\" /><line x1=\"437.5\" y1=\"237.5\" x2=\"437.5\" y2=\"231.25\" stroke-linecap=\"round\" style=\"stroke:black;stroke-width:2\" /><line x1=\"437.5\" y1=\"231.25\" x2=\"443.75\" y2=\"231.25\" stroke-linecap=\"round\" style=\"stroke:black;stroke-width:2\" /><line x1=\"443.75\" y1=\"231.25\" x2=\"443.75\" y2=\"228.125\" stroke-linecap=\"round\" style=\"stroke:black;stroke-width:2\" /><line x1=\"443.75\" y1=\"228.125\" x2=\"443.75\" y2=\"234.375\" stroke-linecap=\"round\" style=\"stroke:black;stroke-width:2\" /><line x1=\"443.75\" y1=\"234.375\" x2=\"443.75\" y2=\"231.25\" stroke-linecap=\"round\" style=\"stroke:black;stroke-width:2\" /><line x1=\"443.75\" y1=\"231.25\" x2=\"437.5\" y2=\"231.25\" stroke-linecap=\"round\" style=\"stroke:black;stroke-width:2\" /><line x1=\"437.5\" y1=\"231.25\" x2=\"437.5\" y2=\"243.75\" stroke-linecap=\"round\" style=\"stroke:black;stroke-width:2\" /><line x1=\"437.5\" y1=\"243.75\" x2=\"443.75\" y2=\"243.75\" stroke-linecap=\"round\" style=\"stroke:black;stroke-width:2\" /><line x1=\"443.75\" y1=\"243.75\" x2=\"443.75\" y2=\"240.625\" stroke-linecap=\"round\" style=\"stroke:black;stroke-width:2\" /><line x1=\"443.75\" y1=\"240.625\" x2=\"443.75\" y2=\"246.875\" stroke-linecap=\"round\" style=\"stroke:black;stroke-width:2\" /><line x1=\"443.75\" y1=\"246.875\" x2=\"443.75\" y2=\"243.75\" stroke-linecap=\"round\" style=\"stroke:black;stroke-width:2\" /><line x1=\"443.75\" y1=\"243.75\" x2=\"437.5\" y2=\"243.75\" stroke-linecap=\"round\" style=\"stroke:black;stroke-width:2\" /><line x1=\"437.5\" y1=\"243.75\" x2=\"437.5\" y2=\"237.5\" stroke-linecap=\"round\" style=\"stroke:black;stroke-width:2\" /><line x1=\"437.5\" y1=\"237.5\" x2=\"425.0\" y2=\"237.5\" stroke-linecap=\"round\" style=\"stroke:black;stroke-width:2\" /><line x1=\"425.0\" y1=\"237.5\" x2=\"425.0\" y2=\"225.0\" stroke-linecap=\"round\" style=\"stroke:black;stroke-width:2\" /><line x1=\"425.0\" y1=\"225.0\" x2=\"400.0\" y2=\"225.0\" stroke-linecap=\"round\" style=\"stroke:black;stroke-width:2\" /><line x1=\"400.0\" y1=\"225.0\" x2=\"400.0\" y2=\"200.0\" stroke-linecap=\"round\" style=\"stroke:black;stroke-width:2\" /><line x1=\"400.0\" y1=\"200.0\" x2=\"350.0\" y2=\"200.0\" stroke-linecap=\"round\" style=\"stroke:black;stroke-width:2\" /><line x1=\"350.0\" y1=\"200.0\" x2=\"350.0\" y2=\"300.0\" stroke-linecap=\"round\" style=\"stroke:black;stroke-width:2\" /><line x1=\"350.0\" y1=\"300.0\" x2=\"400.0\" y2=\"300.0\" stroke-linecap=\"round\" style=\"stroke:black;stroke-width:2\" /><line x1=\"400.0\" y1=\"300.0\" x2=\"400.0\" y2=\"275.0\" stroke-linecap=\"round\" style=\"stroke:black;stroke-width:2\" /><line x1=\"400.0\" y1=\"275.0\" x2=\"425.0\" y2=\"275.0\" stroke-linecap=\"round\" style=\"stroke:black;stroke-width:2\" /><line x1=\"425.0\" y1=\"275.0\" x2=\"425.0\" y2=\"262.5\" stroke-linecap=\"round\" style=\"stroke:black;stroke-width:2\" /><line x1=\"425.0\" y1=\"262.5\" x2=\"437.5\" y2=\"262.5\" stroke-linecap=\"round\" style=\"stroke:black;stroke-width:2\" /><line x1=\"437.5\" y1=\"262.5\" x2=\"437.5\" y2=\"256.25\" stroke-linecap=\"round\" style=\"stroke:black;stroke-width:2\" /><line x1=\"437.5\" y1=\"256.25\" x2=\"443.75\" y2=\"256.25\" stroke-linecap=\"round\" style=\"stroke:black;stroke-width:2\" /><line x1=\"443.75\" y1=\"256.25\" x2=\"443.75\" y2=\"253.125\" stroke-linecap=\"round\" style=\"stroke:black;stroke-width:2\" /><line x1=\"443.75\" y1=\"253.125\" x2=\"443.75\" y2=\"259.375\" stroke-linecap=\"round\" style=\"stroke:black;stroke-width:2\" /><line x1=\"443.75\" y1=\"259.375\" x2=\"443.75\" y2=\"256.25\" stroke-linecap=\"round\" style=\"stroke:black;stroke-width:2\" /><line x1=\"443.75\" y1=\"256.25\" x2=\"437.5\" y2=\"256.25\" stroke-linecap=\"round\" style=\"stroke:black;stroke-width:2\" /><line x1=\"437.5\" y1=\"256.25\" x2=\"437.5\" y2=\"268.75\" stroke-linecap=\"round\" style=\"stroke:black;stroke-width:2\" /><line x1=\"437.5\" y1=\"268.75\" x2=\"443.75\" y2=\"268.75\" stroke-linecap=\"round\" style=\"stroke:black;stroke-width:2\" /><line x1=\"443.75\" y1=\"268.75\" x2=\"443.75\" y2=\"265.625\" stroke-linecap=\"round\" style=\"stroke:black;stroke-width:2\" /><line x1=\"443.75\" y1=\"265.625\" x2=\"443.75\" y2=\"271.875\" stroke-linecap=\"round\" style=\"stroke:black;stroke-width:2\" /><line x1=\"443.75\" y1=\"271.875\" x2=\"443.75\" y2=\"268.75\" stroke-linecap=\"round\" style=\"stroke:black;stroke-width:2\" /><line x1=\"443.75\" y1=\"268.75\" x2=\"437.5\" y2=\"268.75\" stroke-linecap=\"round\" style=\"stroke:black;stroke-width:2\" /><line x1=\"437.5\" y1=\"268.75\" x2=\"437.5\" y2=\"262.5\" stroke-linecap=\"round\" style=\"stroke:black;stroke-width:2\" /><line x1=\"437.5\" y1=\"262.5\" x2=\"425.0\" y2=\"262.5\" stroke-linecap=\"round\" style=\"stroke:black;stroke-width:2\" /><line x1=\"425.0\" y1=\"262.5\" x2=\"425.0\" y2=\"287.5\" stroke-linecap=\"round\" style=\"stroke:black;stroke-width:2\" /><line x1=\"425.0\" y1=\"287.5\" x2=\"437.5\" y2=\"287.5\" stroke-linecap=\"round\" style=\"stroke:black;stroke-width:2\" /><line x1=\"437.5\" y1=\"287.5\" x2=\"437.5\" y2=\"281.25\" stroke-linecap=\"round\" style=\"stroke:black;stroke-width:2\" /><line x1=\"437.5\" y1=\"281.25\" x2=\"443.75\" y2=\"281.25\" stroke-linecap=\"round\" style=\"stroke:black;stroke-width:2\" /><line x1=\"443.75\" y1=\"281.25\" x2=\"443.75\" y2=\"278.125\" stroke-linecap=\"round\" style=\"stroke:black;stroke-width:2\" /><line x1=\"443.75\" y1=\"278.125\" x2=\"443.75\" y2=\"284.375\" stroke-linecap=\"round\" style=\"stroke:black;stroke-width:2\" /><line x1=\"443.75\" y1=\"284.375\" x2=\"443.75\" y2=\"281.25\" stroke-linecap=\"round\" style=\"stroke:black;stroke-width:2\" /><line x1=\"443.75\" y1=\"281.25\" x2=\"437.5\" y2=\"281.25\" stroke-linecap=\"round\" style=\"stroke:black;stroke-width:2\" /><line x1=\"437.5\" y1=\"281.25\" x2=\"437.5\" y2=\"293.75\" stroke-linecap=\"round\" style=\"stroke:black;stroke-width:2\" /><line x1=\"437.5\" y1=\"293.75\" x2=\"443.75\" y2=\"293.75\" stroke-linecap=\"round\" style=\"stroke:black;stroke-width:2\" /><line x1=\"443.75\" y1=\"293.75\" x2=\"443.75\" y2=\"290.625\" stroke-linecap=\"round\" style=\"stroke:black;stroke-width:2\" /><line x1=\"443.75\" y1=\"290.625\" x2=\"443.75\" y2=\"296.875\" stroke-linecap=\"round\" style=\"stroke:black;stroke-width:2\" /><line x1=\"443.75\" y1=\"296.875\" x2=\"443.75\" y2=\"293.75\" stroke-linecap=\"round\" style=\"stroke:black;stroke-width:2\" /><line x1=\"443.75\" y1=\"293.75\" x2=\"437.5\" y2=\"293.75\" stroke-linecap=\"round\" style=\"stroke:black;stroke-width:2\" /><line x1=\"437.5\" y1=\"293.75\" x2=\"437.5\" y2=\"287.5\" stroke-linecap=\"round\" style=\"stroke:black;stroke-width:2\" /><line x1=\"437.5\" y1=\"287.5\" x2=\"425.0\" y2=\"287.5\" stroke-linecap=\"round\" style=\"stroke:black;stroke-width:2\" /><line x1=\"425.0\" y1=\"287.5\" x2=\"425.0\" y2=\"275.0\" stroke-linecap=\"round\" style=\"stroke:black;stroke-width:2\" /><line x1=\"425.0\" y1=\"275.0\" x2=\"400.0\" y2=\"275.0\" stroke-linecap=\"round\" style=\"stroke:black;stroke-width:2\" /><line x1=\"400.0\" y1=\"275.0\" x2=\"400.0\" y2=\"325.0\" stroke-linecap=\"round\" style=\"stroke:black;stroke-width:2\" /><line x1=\"400.0\" y1=\"325.0\" x2=\"425.0\" y2=\"325.0\" stroke-linecap=\"round\" style=\"stroke:black;stroke-width:2\" /><line x1=\"425.0\" y1=\"325.0\" x2=\"425.0\" y2=\"312.5\" stroke-linecap=\"round\" style=\"stroke:black;stroke-width:2\" /><line x1=\"425.0\" y1=\"312.5\" x2=\"437.5\" y2=\"312.5\" stroke-linecap=\"round\" style=\"stroke:black;stroke-width:2\" /><line x1=\"437.5\" y1=\"312.5\" x2=\"437.5\" y2=\"306.25\" stroke-linecap=\"round\" style=\"stroke:black;stroke-width:2\" /><line x1=\"437.5\" y1=\"306.25\" x2=\"443.75\" y2=\"306.25\" stroke-linecap=\"round\" style=\"stroke:black;stroke-width:2\" /><line x1=\"443.75\" y1=\"306.25\" x2=\"443.75\" y2=\"303.125\" stroke-linecap=\"round\" style=\"stroke:black;stroke-width:2\" /><line x1=\"443.75\" y1=\"303.125\" x2=\"443.75\" y2=\"309.375\" stroke-linecap=\"round\" style=\"stroke:black;stroke-width:2\" /><line x1=\"443.75\" y1=\"309.375\" x2=\"443.75\" y2=\"306.25\" stroke-linecap=\"round\" style=\"stroke:black;stroke-width:2\" /><line x1=\"443.75\" y1=\"306.25\" x2=\"437.5\" y2=\"306.25\" stroke-linecap=\"round\" style=\"stroke:black;stroke-width:2\" /><line x1=\"437.5\" y1=\"306.25\" x2=\"437.5\" y2=\"318.75\" stroke-linecap=\"round\" style=\"stroke:black;stroke-width:2\" /><line x1=\"437.5\" y1=\"318.75\" x2=\"443.75\" y2=\"318.75\" stroke-linecap=\"round\" style=\"stroke:black;stroke-width:2\" /><line x1=\"443.75\" y1=\"318.75\" x2=\"443.75\" y2=\"315.625\" stroke-linecap=\"round\" style=\"stroke:black;stroke-width:2\" /><line x1=\"443.75\" y1=\"315.625\" x2=\"443.75\" y2=\"321.875\" stroke-linecap=\"round\" style=\"stroke:black;stroke-width:2\" /><line x1=\"443.75\" y1=\"321.875\" x2=\"443.75\" y2=\"318.75\" stroke-linecap=\"round\" style=\"stroke:black;stroke-width:2\" /><line x1=\"443.75\" y1=\"318.75\" x2=\"437.5\" y2=\"318.75\" stroke-linecap=\"round\" style=\"stroke:black;stroke-width:2\" /><line x1=\"437.5\" y1=\"318.75\" x2=\"437.5\" y2=\"312.5\" stroke-linecap=\"round\" style=\"stroke:black;stroke-width:2\" /><line x1=\"437.5\" y1=\"312.5\" x2=\"425.0\" y2=\"312.5\" stroke-linecap=\"round\" style=\"stroke:black;stroke-width:2\" /><line x1=\"425.0\" y1=\"312.5\" x2=\"425.0\" y2=\"337.5\" stroke-linecap=\"round\" style=\"stroke:black;stroke-width:2\" /><line x1=\"425.0\" y1=\"337.5\" x2=\"437.5\" y2=\"337.5\" stroke-linecap=\"round\" style=\"stroke:black;stroke-width:2\" /><line x1=\"437.5\" y1=\"337.5\" x2=\"437.5\" y2=\"331.25\" stroke-linecap=\"round\" style=\"stroke:black;stroke-width:2\" /><line x1=\"437.5\" y1=\"331.25\" x2=\"443.75\" y2=\"331.25\" stroke-linecap=\"round\" style=\"stroke:black;stroke-width:2\" /><line x1=\"443.75\" y1=\"331.25\" x2=\"443.75\" y2=\"328.125\" stroke-linecap=\"round\" style=\"stroke:black;stroke-width:2\" /><line x1=\"443.75\" y1=\"328.125\" x2=\"443.75\" y2=\"334.375\" stroke-linecap=\"round\" style=\"stroke:black;stroke-width:2\" /><line x1=\"443.75\" y1=\"334.375\" x2=\"443.75\" y2=\"331.25\" stroke-linecap=\"round\" style=\"stroke:black;stroke-width:2\" /><line x1=\"443.75\" y1=\"331.25\" x2=\"437.5\" y2=\"331.25\" stroke-linecap=\"round\" style=\"stroke:black;stroke-width:2\" /><line x1=\"437.5\" y1=\"331.25\" x2=\"437.5\" y2=\"343.75\" stroke-linecap=\"round\" style=\"stroke:black;stroke-width:2\" /><line x1=\"437.5\" y1=\"343.75\" x2=\"443.75\" y2=\"343.75\" stroke-linecap=\"round\" style=\"stroke:black;stroke-width:2\" /><line x1=\"443.75\" y1=\"343.75\" x2=\"443.75\" y2=\"340.625\" stroke-linecap=\"round\" style=\"stroke:black;stroke-width:2\" /><line x1=\"443.75\" y1=\"340.625\" x2=\"443.75\" y2=\"346.875\" stroke-linecap=\"round\" style=\"stroke:black;stroke-width:2\" /><line x1=\"443.75\" y1=\"346.875\" x2=\"443.75\" y2=\"343.75\" stroke-linecap=\"round\" style=\"stroke:black;stroke-width:2\" /><line x1=\"443.75\" y1=\"343.75\" x2=\"437.5\" y2=\"343.75\" stroke-linecap=\"round\" style=\"stroke:black;stroke-width:2\" /><line x1=\"437.5\" y1=\"343.75\" x2=\"437.5\" y2=\"337.5\" stroke-linecap=\"round\" style=\"stroke:black;stroke-width:2\" /><line x1=\"437.5\" y1=\"337.5\" x2=\"425.0\" y2=\"337.5\" stroke-linecap=\"round\" style=\"stroke:black;stroke-width:2\" /><line x1=\"425.0\" y1=\"337.5\" x2=\"425.0\" y2=\"325.0\" stroke-linecap=\"round\" style=\"stroke:black;stroke-width:2\" /><line x1=\"425.0\" y1=\"325.0\" x2=\"400.0\" y2=\"325.0\" stroke-linecap=\"round\" style=\"stroke:black;stroke-width:2\" /><line x1=\"400.0\" y1=\"325.0\" x2=\"400.0\" y2=\"300.0\" stroke-linecap=\"round\" style=\"stroke:black;stroke-width:2\" /><line x1=\"400.0\" y1=\"300.0\" x2=\"350.0\" y2=\"300.0\" stroke-linecap=\"round\" style=\"stroke:black;stroke-width:2\" /><line x1=\"350.0\" y1=\"300.0\" x2=\"350.0\" y2=\"250.0\" stroke-linecap=\"round\" style=\"stroke:black;stroke-width:2\" /><line x1=\"350.0\" y1=\"250.0\" x2=\"340.0\" y2=\"250.0\" stroke-linecap=\"round\" style=\"stroke:black;stroke-width:2\" /><line x1=\"340.0\" y1=\"250.0\" x2=\"330.0\" y2=\"250.0\" stroke-linecap=\"round\" style=\"stroke:black;stroke-width:2\" /><line x1=\"330.0\" y1=\"250.0\" x2=\"320.0\" y2=\"250.0\" stroke-linecap=\"round\" style=\"stroke:black;stroke-width:2\" /><line x1=\"320.0\" y1=\"250.0\" x2=\"310.0\" y2=\"250.0\" stroke-linecap=\"round\" style=\"stroke:black;stroke-width:2\" /><line x1=\"310.0\" y1=\"250.0\" x2=\"300.0\" y2=\"250.0\" stroke-linecap=\"round\" style=\"stroke:black;stroke-width:2\" /><line x1=\"300.0\" y1=\"250.0\" x2=\"290.0\" y2=\"250.0\" stroke-linecap=\"round\" style=\"stroke:black;stroke-width:2\" /><line x1=\"290.0\" y1=\"250.0\" x2=\"280.0\" y2=\"250.0\" stroke-linecap=\"round\" style=\"stroke:black;stroke-width:2\" /><line x1=\"280.0\" y1=\"250.0\" x2=\"270.0\" y2=\"250.0\" stroke-linecap=\"round\" style=\"stroke:black;stroke-width:2\" /><line x1=\"270.0\" y1=\"250.0\" x2=\"260.0\" y2=\"250.0\" stroke-linecap=\"round\" style=\"stroke:black;stroke-width:2\" /><line x1=\"260.0\" y1=\"250.0\" x2=\"250.0\" y2=\"250.0\" stroke-linecap=\"round\" style=\"stroke:black;stroke-width:2\" />\n",
              "        \n",
              "        \n",
              "        <g id=\"turtle2\" visibility=\"visible\" transform=\"rotate(-90,250.0,250.0) translate(250.0, 250.0)\">\n",
              "<polygon points=\"0,16 2,14 1,10 4,7 7,9 9,8 6,5 7,1 5,-3 8,-6 6,-8 4,-5 0,-7 -4,-5 -6,-8 -8,-6 -5,-3 -7,1 -6,5 -9,8 -7,9 -4,7 -1,10 -2,14\" transform=\"skewX(0) scale(1,1)\" style=\"stroke:black;stroke-width:1;fill:black\" />\n",
              "</g>\n",
              "      </svg>\n",
              "    "
            ],
            "text/plain": [
              "<IPython.core.display.HTML object>"
            ]
          },
          "metadata": {},
          "output_type": "display_data"
        }
      ],
      "source": [
        "# The chai function\n",
        "\n",
        "import ColabTurtlePlus.Turtle as t\n",
        "\n",
        "t.clearscreen()      # it's good to start every cell with this\n",
        "t.setup(500,500)     # setup the drawing area to be 500 pixels x 500 pixels\n",
        "t.showborder()       # show the border of the drawing area\n",
        "\n",
        "t.bgcolor(\"AliceBlue\")   # adjust to your preferences!\n",
        "t.shape(\"turtle2\")\n",
        "t.speed(10)\n",
        "t.width(2)\n",
        "\n",
        "def chai(size):\n",
        "    \"\"\"Our chai function!\"\"\"\n",
        "    if (size < 5):\n",
        "        return\n",
        "    else:\n",
        "        t.forward(size)\n",
        "        t.left(90)\n",
        "        t.forward(size/2)\n",
        "        t.right(90)\n",
        "        chai(size/2)\n",
        "\n",
        "        # first you'll recurse here\n",
        "\n",
        "        t.right(90)\n",
        "        t.forward(size)\n",
        "        t.left(90)\n",
        "        chai(size/2)\n",
        "\n",
        "        # then you'll recurse here, as well!\n",
        "\n",
        "        t.left(90)\n",
        "        t.forward(size/2)\n",
        "        t.right(90)\n",
        "        t.backward(size)\n",
        "        return\n",
        "\n",
        "#\n",
        "# This runs the chai function:\n",
        "#\n",
        "chai(100)"
      ]
    },
    {
      "cell_type": "markdown",
      "metadata": {
        "id": "hztMWEZUM9-9"
      },
      "source": [
        " ## <b>Turtle Task #4: The `svtree` function</b>  </font>\n",
        "\n",
        "\n",
        "Next, you'll write another branching example: the _side-view_ tree.\n",
        "\n",
        "The idea is to create a function that draws the _side view_ of a tree, hence `svtree`. "
      ]
    },
    {
      "cell_type": "code",
      "execution_count": 42,
      "metadata": {
        "colab": {
          "base_uri": "https://localhost:8080/",
          "height": 521
        },
        "id": "1FHfXGUENPUG",
        "outputId": "96e8972a-3748-4b3d-88a8-15232281a12f"
      },
      "outputs": [
        {
          "data": {
            "text/html": [
              "\n",
              "      <svg width=\"500\" height=\"500\">  \n",
              "        <rect width=\"100%\" height=\"100%\" style=\"fill:aliceblue;stroke:gray;stroke-width:1\"/>\n",
              "        \n",
              "        \n",
              "        <line x1=\"100.0\" y1=\"250.0\" x2=\"150.0\" y2=\"250.0\" stroke-linecap=\"round\" style=\"stroke:black;stroke-width:2\" /><line x1=\"150.0\" y1=\"250.0\" x2=\"175.981\" y2=\"235.0\" stroke-linecap=\"round\" style=\"stroke:black;stroke-width:1\" /><line x1=\"175.981\" y1=\"235.0\" x2=\"150.0\" y2=\"250.0\" stroke-linecap=\"round\" style=\"stroke:black;stroke-width:1\" /><line x1=\"150.0\" y1=\"250.0\" x2=\"175.981\" y2=\"265.0\" stroke-linecap=\"round\" style=\"stroke:black;stroke-width:1\" /><line x1=\"175.981\" y1=\"265.0\" x2=\"150.0\" y2=\"250.0\" stroke-linecap=\"round\" style=\"stroke:black;stroke-width:1\" /><line x1=\"150.0\" y1=\"250.0\" x2=\"140.0\" y2=\"250.0\" stroke-linecap=\"round\" style=\"stroke:black;stroke-width:1\" /><line x1=\"140.0\" y1=\"250.0\" x2=\"130.0\" y2=\"250.0\" stroke-linecap=\"round\" style=\"stroke:black;stroke-width:1\" /><line x1=\"130.0\" y1=\"250.0\" x2=\"120.0\" y2=\"250.0\" stroke-linecap=\"round\" style=\"stroke:black;stroke-width:1\" /><line x1=\"120.0\" y1=\"250.0\" x2=\"110.0\" y2=\"250.0\" stroke-linecap=\"round\" style=\"stroke:black;stroke-width:1\" /><line x1=\"110.0\" y1=\"250.0\" x2=\"100.0\" y2=\"250.0\" stroke-linecap=\"round\" style=\"stroke:black;stroke-width:1\" />\n",
              "        <circle cx=\"100.0\" cy=\"250.0\" r=\"5.0\" fill=\"green\" fill-opacity=\"1\" /><circle cx=\"150.0\" cy=\"250.0\" r=\"2.5\" fill=\"green\" fill-opacity=\"1\" /><circle cx=\"150.0\" cy=\"250.0\" r=\"2.5\" fill=\"green\" fill-opacity=\"1\" />\n",
              "        \n",
              "        <g id=\"turtle2\" visibility=\"visible\" transform=\"rotate(-90,100.0,250.0) translate(100.0, 250.0)\">\n",
              "<polygon points=\"0,16 2,14 1,10 4,7 7,9 9,8 6,5 7,1 5,-3 8,-6 6,-8 4,-5 0,-7 -4,-5 -6,-8 -8,-6 -5,-3 -7,1 -6,5 -9,8 -7,9 -4,7 -1,10 -2,14\" transform=\"skewX(0) scale(1,1)\" style=\"stroke:black;stroke-width:1;fill:black\" />\n",
              "</g>\n",
              "      </svg>\n",
              "    "
            ],
            "text/plain": [
              "<IPython.core.display.HTML object>"
            ]
          },
          "metadata": {},
          "output_type": "display_data"
        }
      ],
      "source": [
        "import ColabTurtlePlus.Turtle as t\n",
        "import matplotlib.pyplot as plt\n",
        "import numpy as np\n",
        "\n",
        "t.clearscreen()      # it's good to start every cell with this\n",
        "t.setup(500,500)     # setup the drawing area to be 500 pixels x 500 pixels\n",
        "t.showborder()       # show the border of the drawing area\n",
        "\n",
        "t.bgcolor(\"AliceBlue\")   # adjust to your preferences!\n",
        "t.shape(\"turtle2\")\n",
        "t.speed(10)\n",
        "\n",
        "def svtree(trunklength, levels):\n",
        "    \"\"\"svtree: draws a side-view tree\n",
        "       trunklength = the length of the first line drawn (\"the trunk\")\n",
        "       levels = the depth of recursion to which it continues branching\n",
        "    \"\"\"\n",
        "    if levels == 0:\n",
        "        return\n",
        "    else:\n",
        "        t.width(levels)\n",
        "        t.dot(levels * 5,'green')\n",
        "        t.forward(trunklength)\n",
        "        t.left(30)\n",
        "        svtree((trunklength * 0.6), (levels - 1))\n",
        "        t.right(60)\n",
        "        svtree(trunklength * 0.6, levels - 1)\n",
        "        t.left(30)\n",
        "        t.backward(trunklength)\n",
        "\n",
        "#\n",
        "# setup - move the turtle backward a bit:\n",
        "#\n",
        "t.penup()\n",
        "t.backward(150)\n",
        "t.pendown()\n",
        "\n",
        "# Go!  One example:\n",
        "svtree(50, 2)"
      ]
    },
    {
      "cell_type": "code",
      "execution_count": 43,
      "metadata": {
        "colab": {
          "base_uri": "https://localhost:8080/",
          "height": 521
        },
        "id": "00Nb7uZOvywH",
        "outputId": "f0de81f6-7dd0-4971-d714-7046264bea1a"
      },
      "outputs": [
        {
          "data": {
            "text/html": [
              "\n",
              "      <svg width=\"500\" height=\"500\">  \n",
              "        <rect width=\"100%\" height=\"100%\" style=\"fill:aliceblue;stroke:gray;stroke-width:1\"/>\n",
              "        \n",
              "        \n",
              "        <line x1=\"100.0\" y1=\"250.0\" x2=\"200.0\" y2=\"250.0\" stroke-linecap=\"round\" style=\"stroke:black;stroke-width:5\" /><line x1=\"200.0\" y1=\"250.0\" x2=\"251.962\" y2=\"220.0\" stroke-linecap=\"round\" style=\"stroke:black;stroke-width:4\" /><line x1=\"251.962\" y1=\"220.0\" x2=\"269.962\" y2=\"188.823\" stroke-linecap=\"round\" style=\"stroke:black;stroke-width:3\" /><line x1=\"269.962\" y1=\"188.823\" x2=\"269.962\" y2=\"167.223\" stroke-linecap=\"round\" style=\"stroke:black;stroke-width:2\" /><line x1=\"269.962\" y1=\"167.223\" x2=\"263.482\" y2=\"155.999\" stroke-linecap=\"round\" style=\"stroke:black;stroke-width:1\" /><line x1=\"263.482\" y1=\"155.999\" x2=\"269.962\" y2=\"167.223\" stroke-linecap=\"round\" style=\"stroke:black;stroke-width:1\" /><line x1=\"269.962\" y1=\"167.223\" x2=\"276.442\" y2=\"155.999\" stroke-linecap=\"round\" style=\"stroke:black;stroke-width:1\" /><line x1=\"276.442\" y1=\"155.999\" x2=\"269.962\" y2=\"167.223\" stroke-linecap=\"round\" style=\"stroke:black;stroke-width:1\" /><line x1=\"269.962\" y1=\"167.223\" x2=\"269.962\" y2=\"188.823\" stroke-linecap=\"round\" style=\"stroke:black;stroke-width:1\" /><line x1=\"269.962\" y1=\"188.823\" x2=\"288.668\" y2=\"178.023\" stroke-linecap=\"round\" style=\"stroke:black;stroke-width:2\" /><line x1=\"288.668\" y1=\"178.023\" x2=\"295.148\" y2=\"166.799\" stroke-linecap=\"round\" style=\"stroke:black;stroke-width:1\" /><line x1=\"295.148\" y1=\"166.799\" x2=\"288.668\" y2=\"178.023\" stroke-linecap=\"round\" style=\"stroke:black;stroke-width:1\" /><line x1=\"288.668\" y1=\"178.023\" x2=\"301.628\" y2=\"178.023\" stroke-linecap=\"round\" style=\"stroke:black;stroke-width:1\" /><line x1=\"301.628\" y1=\"178.023\" x2=\"288.668\" y2=\"178.023\" stroke-linecap=\"round\" style=\"stroke:black;stroke-width:1\" /><line x1=\"288.668\" y1=\"178.023\" x2=\"269.962\" y2=\"188.823\" stroke-linecap=\"round\" style=\"stroke:black;stroke-width:1\" /><line x1=\"269.962\" y1=\"188.823\" x2=\"251.962\" y2=\"220.0\" stroke-linecap=\"round\" style=\"stroke:black;stroke-width:1\" /><line x1=\"251.962\" y1=\"220.0\" x2=\"287.962\" y2=\"220.0\" stroke-linecap=\"round\" style=\"stroke:black;stroke-width:3\" /><line x1=\"287.962\" y1=\"220.0\" x2=\"306.668\" y2=\"209.2\" stroke-linecap=\"round\" style=\"stroke:black;stroke-width:2\" /><line x1=\"306.668\" y1=\"209.2\" x2=\"313.148\" y2=\"197.976\" stroke-linecap=\"round\" style=\"stroke:black;stroke-width:1\" /><line x1=\"313.148\" y1=\"197.976\" x2=\"306.668\" y2=\"209.2\" stroke-linecap=\"round\" style=\"stroke:black;stroke-width:1\" /><line x1=\"306.668\" y1=\"209.2\" x2=\"319.628\" y2=\"209.2\" stroke-linecap=\"round\" style=\"stroke:black;stroke-width:1\" /><line x1=\"319.628\" y1=\"209.2\" x2=\"306.668\" y2=\"209.2\" stroke-linecap=\"round\" style=\"stroke:black;stroke-width:1\" /><line x1=\"306.668\" y1=\"209.2\" x2=\"287.962\" y2=\"220.0\" stroke-linecap=\"round\" style=\"stroke:black;stroke-width:1\" /><line x1=\"287.962\" y1=\"220.0\" x2=\"306.668\" y2=\"230.8\" stroke-linecap=\"round\" style=\"stroke:black;stroke-width:2\" /><line x1=\"306.668\" y1=\"230.8\" x2=\"319.628\" y2=\"230.8\" stroke-linecap=\"round\" style=\"stroke:black;stroke-width:1\" /><line x1=\"319.628\" y1=\"230.8\" x2=\"306.668\" y2=\"230.8\" stroke-linecap=\"round\" style=\"stroke:black;stroke-width:1\" /><line x1=\"306.668\" y1=\"230.8\" x2=\"313.148\" y2=\"242.024\" stroke-linecap=\"round\" style=\"stroke:black;stroke-width:1\" /><line x1=\"313.148\" y1=\"242.024\" x2=\"306.668\" y2=\"230.8\" stroke-linecap=\"round\" style=\"stroke:black;stroke-width:1\" /><line x1=\"306.668\" y1=\"230.8\" x2=\"287.962\" y2=\"220.0\" stroke-linecap=\"round\" style=\"stroke:black;stroke-width:1\" /><line x1=\"287.962\" y1=\"220.0\" x2=\"251.962\" y2=\"220.0\" stroke-linecap=\"round\" style=\"stroke:black;stroke-width:1\" /><line x1=\"251.962\" y1=\"220.0\" x2=\"200.0\" y2=\"250.0\" stroke-linecap=\"round\" style=\"stroke:black;stroke-width:1\" /><line x1=\"200.0\" y1=\"250.0\" x2=\"251.962\" y2=\"280.0\" stroke-linecap=\"round\" style=\"stroke:black;stroke-width:4\" /><line x1=\"251.962\" y1=\"280.0\" x2=\"287.962\" y2=\"280.0\" stroke-linecap=\"round\" style=\"stroke:black;stroke-width:3\" /><line x1=\"287.962\" y1=\"280.0\" x2=\"306.668\" y2=\"269.2\" stroke-linecap=\"round\" style=\"stroke:black;stroke-width:2\" /><line x1=\"306.668\" y1=\"269.2\" x2=\"313.148\" y2=\"257.976\" stroke-linecap=\"round\" style=\"stroke:black;stroke-width:1\" /><line x1=\"313.148\" y1=\"257.976\" x2=\"306.668\" y2=\"269.2\" stroke-linecap=\"round\" style=\"stroke:black;stroke-width:1\" /><line x1=\"306.668\" y1=\"269.2\" x2=\"319.628\" y2=\"269.2\" stroke-linecap=\"round\" style=\"stroke:black;stroke-width:1\" /><line x1=\"319.628\" y1=\"269.2\" x2=\"306.668\" y2=\"269.2\" stroke-linecap=\"round\" style=\"stroke:black;stroke-width:1\" /><line x1=\"306.668\" y1=\"269.2\" x2=\"287.962\" y2=\"280.0\" stroke-linecap=\"round\" style=\"stroke:black;stroke-width:1\" /><line x1=\"287.962\" y1=\"280.0\" x2=\"306.668\" y2=\"290.8\" stroke-linecap=\"round\" style=\"stroke:black;stroke-width:2\" /><line x1=\"306.668\" y1=\"290.8\" x2=\"319.628\" y2=\"290.8\" stroke-linecap=\"round\" style=\"stroke:black;stroke-width:1\" /><line x1=\"319.628\" y1=\"290.8\" x2=\"306.668\" y2=\"290.8\" stroke-linecap=\"round\" style=\"stroke:black;stroke-width:1\" /><line x1=\"306.668\" y1=\"290.8\" x2=\"313.148\" y2=\"302.024\" stroke-linecap=\"round\" style=\"stroke:black;stroke-width:1\" /><line x1=\"313.148\" y1=\"302.024\" x2=\"306.668\" y2=\"290.8\" stroke-linecap=\"round\" style=\"stroke:black;stroke-width:1\" /><line x1=\"306.668\" y1=\"290.8\" x2=\"287.962\" y2=\"280.0\" stroke-linecap=\"round\" style=\"stroke:black;stroke-width:1\" /><line x1=\"287.962\" y1=\"280.0\" x2=\"251.962\" y2=\"280.0\" stroke-linecap=\"round\" style=\"stroke:black;stroke-width:1\" /><line x1=\"251.962\" y1=\"280.0\" x2=\"269.962\" y2=\"311.177\" stroke-linecap=\"round\" style=\"stroke:black;stroke-width:3\" /><line x1=\"269.962\" y1=\"311.177\" x2=\"288.668\" y2=\"321.977\" stroke-linecap=\"round\" style=\"stroke:black;stroke-width:2\" /><line x1=\"288.668\" y1=\"321.977\" x2=\"301.628\" y2=\"321.977\" stroke-linecap=\"round\" style=\"stroke:black;stroke-width:1\" /><line x1=\"301.628\" y1=\"321.977\" x2=\"288.668\" y2=\"321.977\" stroke-linecap=\"round\" style=\"stroke:black;stroke-width:1\" /><line x1=\"288.668\" y1=\"321.977\" x2=\"295.148\" y2=\"333.201\" stroke-linecap=\"round\" style=\"stroke:black;stroke-width:1\" /><line x1=\"295.148\" y1=\"333.201\" x2=\"288.668\" y2=\"321.977\" stroke-linecap=\"round\" style=\"stroke:black;stroke-width:1\" /><line x1=\"288.668\" y1=\"321.977\" x2=\"269.962\" y2=\"311.177\" stroke-linecap=\"round\" style=\"stroke:black;stroke-width:1\" /><line x1=\"269.962\" y1=\"311.177\" x2=\"269.962\" y2=\"332.777\" stroke-linecap=\"round\" style=\"stroke:black;stroke-width:2\" /><line x1=\"269.962\" y1=\"332.777\" x2=\"276.442\" y2=\"344.001\" stroke-linecap=\"round\" style=\"stroke:black;stroke-width:1\" /><line x1=\"276.442\" y1=\"344.001\" x2=\"269.962\" y2=\"332.777\" stroke-linecap=\"round\" style=\"stroke:black;stroke-width:1\" /><line x1=\"269.962\" y1=\"332.777\" x2=\"263.482\" y2=\"344.001\" stroke-linecap=\"round\" style=\"stroke:black;stroke-width:1\" /><line x1=\"263.482\" y1=\"344.001\" x2=\"269.962\" y2=\"332.777\" stroke-linecap=\"round\" style=\"stroke:black;stroke-width:1\" /><line x1=\"269.962\" y1=\"332.777\" x2=\"269.962\" y2=\"311.177\" stroke-linecap=\"round\" style=\"stroke:black;stroke-width:1\" /><line x1=\"269.962\" y1=\"311.177\" x2=\"251.962\" y2=\"280.0\" stroke-linecap=\"round\" style=\"stroke:black;stroke-width:1\" /><line x1=\"251.962\" y1=\"280.0\" x2=\"200.0\" y2=\"250.0\" stroke-linecap=\"round\" style=\"stroke:black;stroke-width:1\" /><line x1=\"200.0\" y1=\"250.0\" x2=\"190.0\" y2=\"250.0\" stroke-linecap=\"round\" style=\"stroke:black;stroke-width:1\" /><line x1=\"190.0\" y1=\"250.0\" x2=\"180.0\" y2=\"250.0\" stroke-linecap=\"round\" style=\"stroke:black;stroke-width:1\" /><line x1=\"180.0\" y1=\"250.0\" x2=\"170.0\" y2=\"250.0\" stroke-linecap=\"round\" style=\"stroke:black;stroke-width:1\" /><line x1=\"170.0\" y1=\"250.0\" x2=\"160.0\" y2=\"250.0\" stroke-linecap=\"round\" style=\"stroke:black;stroke-width:1\" /><line x1=\"160.0\" y1=\"250.0\" x2=\"150.0\" y2=\"250.0\" stroke-linecap=\"round\" style=\"stroke:black;stroke-width:1\" /><line x1=\"150.0\" y1=\"250.0\" x2=\"140.0\" y2=\"250.0\" stroke-linecap=\"round\" style=\"stroke:black;stroke-width:1\" /><line x1=\"140.0\" y1=\"250.0\" x2=\"130.0\" y2=\"250.0\" stroke-linecap=\"round\" style=\"stroke:black;stroke-width:1\" /><line x1=\"130.0\" y1=\"250.0\" x2=\"120.0\" y2=\"250.0\" stroke-linecap=\"round\" style=\"stroke:black;stroke-width:1\" /><line x1=\"120.0\" y1=\"250.0\" x2=\"110.0\" y2=\"250.0\" stroke-linecap=\"round\" style=\"stroke:black;stroke-width:1\" /><line x1=\"110.0\" y1=\"250.0\" x2=\"100.0\" y2=\"250.0\" stroke-linecap=\"round\" style=\"stroke:black;stroke-width:1\" />\n",
              "        <circle cx=\"100.0\" cy=\"250.0\" r=\"12.5\" fill=\"green\" fill-opacity=\"1\" /><circle cx=\"200.0\" cy=\"250.0\" r=\"10.0\" fill=\"green\" fill-opacity=\"1\" /><circle cx=\"251.962\" cy=\"220.0\" r=\"7.5\" fill=\"green\" fill-opacity=\"1\" /><circle cx=\"269.962\" cy=\"188.823\" r=\"5.0\" fill=\"green\" fill-opacity=\"1\" /><circle cx=\"269.962\" cy=\"167.223\" r=\"2.5\" fill=\"green\" fill-opacity=\"1\" /><circle cx=\"269.962\" cy=\"167.223\" r=\"2.5\" fill=\"green\" fill-opacity=\"1\" /><circle cx=\"269.962\" cy=\"188.823\" r=\"5.0\" fill=\"green\" fill-opacity=\"1\" /><circle cx=\"288.668\" cy=\"178.023\" r=\"2.5\" fill=\"green\" fill-opacity=\"1\" /><circle cx=\"288.668\" cy=\"178.023\" r=\"2.5\" fill=\"green\" fill-opacity=\"1\" /><circle cx=\"251.962\" cy=\"220.0\" r=\"7.5\" fill=\"green\" fill-opacity=\"1\" /><circle cx=\"287.962\" cy=\"220.0\" r=\"5.0\" fill=\"green\" fill-opacity=\"1\" /><circle cx=\"306.668\" cy=\"209.2\" r=\"2.5\" fill=\"green\" fill-opacity=\"1\" /><circle cx=\"306.668\" cy=\"209.2\" r=\"2.5\" fill=\"green\" fill-opacity=\"1\" /><circle cx=\"287.962\" cy=\"220.0\" r=\"5.0\" fill=\"green\" fill-opacity=\"1\" /><circle cx=\"306.668\" cy=\"230.8\" r=\"2.5\" fill=\"green\" fill-opacity=\"1\" /><circle cx=\"306.668\" cy=\"230.8\" r=\"2.5\" fill=\"green\" fill-opacity=\"1\" /><circle cx=\"200.0\" cy=\"250.0\" r=\"10.0\" fill=\"green\" fill-opacity=\"1\" /><circle cx=\"251.962\" cy=\"280.0\" r=\"7.5\" fill=\"green\" fill-opacity=\"1\" /><circle cx=\"287.962\" cy=\"280.0\" r=\"5.0\" fill=\"green\" fill-opacity=\"1\" /><circle cx=\"306.668\" cy=\"269.2\" r=\"2.5\" fill=\"green\" fill-opacity=\"1\" /><circle cx=\"306.668\" cy=\"269.2\" r=\"2.5\" fill=\"green\" fill-opacity=\"1\" /><circle cx=\"287.962\" cy=\"280.0\" r=\"5.0\" fill=\"green\" fill-opacity=\"1\" /><circle cx=\"306.668\" cy=\"290.8\" r=\"2.5\" fill=\"green\" fill-opacity=\"1\" /><circle cx=\"306.668\" cy=\"290.8\" r=\"2.5\" fill=\"green\" fill-opacity=\"1\" /><circle cx=\"251.962\" cy=\"280.0\" r=\"7.5\" fill=\"green\" fill-opacity=\"1\" /><circle cx=\"269.962\" cy=\"311.177\" r=\"5.0\" fill=\"green\" fill-opacity=\"1\" /><circle cx=\"288.668\" cy=\"321.977\" r=\"2.5\" fill=\"green\" fill-opacity=\"1\" /><circle cx=\"288.668\" cy=\"321.977\" r=\"2.5\" fill=\"green\" fill-opacity=\"1\" /><circle cx=\"269.962\" cy=\"311.177\" r=\"5.0\" fill=\"green\" fill-opacity=\"1\" /><circle cx=\"269.962\" cy=\"332.777\" r=\"2.5\" fill=\"green\" fill-opacity=\"1\" /><circle cx=\"269.962\" cy=\"332.777\" r=\"2.5\" fill=\"green\" fill-opacity=\"1\" />\n",
              "        \n",
              "        <g id=\"turtle2\" visibility=\"visible\" transform=\"rotate(-90,100.0,250.0) translate(100.0, 250.0)\">\n",
              "<polygon points=\"0,16 2,14 1,10 4,7 7,9 9,8 6,5 7,1 5,-3 8,-6 6,-8 4,-5 0,-7 -4,-5 -6,-8 -8,-6 -5,-3 -7,1 -6,5 -9,8 -7,9 -4,7 -1,10 -2,14\" transform=\"skewX(0) scale(1,1)\" style=\"stroke:black;stroke-width:1;fill:black\" />\n",
              "</g>\n",
              "      </svg>\n",
              "    "
            ],
            "text/plain": [
              "<IPython.core.display.HTML object>"
            ]
          },
          "metadata": {},
          "output_type": "display_data"
        }
      ],
      "source": [
        "t.clearscreen()      # it's good to start every cell with this\n",
        "t.setup(500,500)     # setup the drawing area to be 500 pixels x 500 pixels\n",
        "t.showborder()       # show the border of the drawing area\n",
        "\n",
        "t.bgcolor(\"AliceBlue\")   # adjust to your preferences!\n",
        "t.shape(\"turtle2\")\n",
        "t.speed(10)\n",
        "t.width(2)\n",
        "\n",
        "t.penup()\n",
        "t.backward(150)\n",
        "t.pendown()\n",
        "\n",
        "svtree(100,5)"
      ]
    },
    {
      "cell_type": "markdown",
      "metadata": {
        "id": "kCe2pKeiQt1V"
      },
      "source": [
        "## <b>Turtle Task #5: The `flakeside` function </b> \n",
        "\n",
        "A challenge! The Koch Snowflake is an example of _deeply_ branching recursion.\n",
        "\n",
        "The Koch snowflake is a fractal with three identical sides—it's the sides themselves that are defined recursively, not the set of three of them."
      ]
    },
    {
      "cell_type": "code",
      "execution_count": 67,
      "metadata": {
        "colab": {
          "base_uri": "https://localhost:8080/",
          "height": 521
        },
        "id": "c5JjE7a5R3EV",
        "outputId": "3f577c6d-3eff-4efc-bf7b-2335df10c86a"
      },
      "outputs": [
        {
          "data": {
            "text/html": [
              "\n",
              "      <svg width=\"500\" height=\"500\">  \n",
              "        <rect width=\"100%\" height=\"100%\" style=\"fill:aliceblue;stroke:gray;stroke-width:1\"/>\n",
              "        \n",
              "        \n",
              "        <line x1=\"50.0\" y1=\"250.0\" x2=\"61.111\" y2=\"250.0\" stroke-linecap=\"round\" style=\"stroke:black;stroke-width:2\" /><line x1=\"61.111\" y1=\"250.0\" x2=\"66.667\" y2=\"259.623\" stroke-linecap=\"round\" style=\"stroke:black;stroke-width:2\" /><line x1=\"66.667\" y1=\"259.623\" x2=\"72.223\" y2=\"250.0\" stroke-linecap=\"round\" style=\"stroke:black;stroke-width:2\" /><line x1=\"72.223\" y1=\"250.0\" x2=\"83.334\" y2=\"250.0\" stroke-linecap=\"round\" style=\"stroke:black;stroke-width:2\" /><line x1=\"83.334\" y1=\"250.0\" x2=\"88.89\" y2=\"259.623\" stroke-linecap=\"round\" style=\"stroke:black;stroke-width:2\" /><line x1=\"88.89\" y1=\"259.623\" x2=\"83.334\" y2=\"269.246\" stroke-linecap=\"round\" style=\"stroke:black;stroke-width:2\" /><line x1=\"83.334\" y1=\"269.246\" x2=\"94.445\" y2=\"269.246\" stroke-linecap=\"round\" style=\"stroke:black;stroke-width:2\" /><line x1=\"94.445\" y1=\"269.246\" x2=\"100.001\" y2=\"278.869\" stroke-linecap=\"round\" style=\"stroke:black;stroke-width:2\" /><line x1=\"100.001\" y1=\"278.869\" x2=\"105.557\" y2=\"269.246\" stroke-linecap=\"round\" style=\"stroke:black;stroke-width:2\" /><line x1=\"105.557\" y1=\"269.246\" x2=\"116.668\" y2=\"269.246\" stroke-linecap=\"round\" style=\"stroke:black;stroke-width:2\" /><line x1=\"116.668\" y1=\"269.246\" x2=\"111.112\" y2=\"259.623\" stroke-linecap=\"round\" style=\"stroke:black;stroke-width:2\" /><line x1=\"111.112\" y1=\"259.623\" x2=\"116.668\" y2=\"250.0\" stroke-linecap=\"round\" style=\"stroke:black;stroke-width:2\" /><line x1=\"116.668\" y1=\"250.0\" x2=\"127.779\" y2=\"250.0\" stroke-linecap=\"round\" style=\"stroke:black;stroke-width:2\" /><line x1=\"127.779\" y1=\"250.0\" x2=\"133.335\" y2=\"259.623\" stroke-linecap=\"round\" style=\"stroke:black;stroke-width:2\" /><line x1=\"133.335\" y1=\"259.623\" x2=\"138.891\" y2=\"250.0\" stroke-linecap=\"round\" style=\"stroke:black;stroke-width:2\" /><line x1=\"138.891\" y1=\"250.0\" x2=\"150.002\" y2=\"250.0\" stroke-linecap=\"round\" style=\"stroke:black;stroke-width:2\" /><line x1=\"150.002\" y1=\"250.0\" x2=\"155.558\" y2=\"259.623\" stroke-linecap=\"round\" style=\"stroke:black;stroke-width:2\" /><line x1=\"155.558\" y1=\"259.623\" x2=\"150.002\" y2=\"269.246\" stroke-linecap=\"round\" style=\"stroke:black;stroke-width:2\" /><line x1=\"150.002\" y1=\"269.246\" x2=\"161.113\" y2=\"269.246\" stroke-linecap=\"round\" style=\"stroke:black;stroke-width:2\" /><line x1=\"161.113\" y1=\"269.246\" x2=\"166.669\" y2=\"278.869\" stroke-linecap=\"round\" style=\"stroke:black;stroke-width:2\" /><line x1=\"166.669\" y1=\"278.869\" x2=\"161.113\" y2=\"288.492\" stroke-linecap=\"round\" style=\"stroke:black;stroke-width:2\" /><line x1=\"161.113\" y1=\"288.492\" x2=\"150.002\" y2=\"288.492\" stroke-linecap=\"round\" style=\"stroke:black;stroke-width:2\" /><line x1=\"150.002\" y1=\"288.492\" x2=\"155.558\" y2=\"298.115\" stroke-linecap=\"round\" style=\"stroke:black;stroke-width:2\" /><line x1=\"155.558\" y1=\"298.115\" x2=\"150.002\" y2=\"307.738\" stroke-linecap=\"round\" style=\"stroke:black;stroke-width:2\" /><line x1=\"150.002\" y1=\"307.738\" x2=\"161.113\" y2=\"307.738\" stroke-linecap=\"round\" style=\"stroke:black;stroke-width:2\" /><line x1=\"161.113\" y1=\"307.738\" x2=\"166.669\" y2=\"317.361\" stroke-linecap=\"round\" style=\"stroke:black;stroke-width:2\" /><line x1=\"166.669\" y1=\"317.361\" x2=\"172.225\" y2=\"307.738\" stroke-linecap=\"round\" style=\"stroke:black;stroke-width:2\" /><line x1=\"172.225\" y1=\"307.738\" x2=\"183.336\" y2=\"307.738\" stroke-linecap=\"round\" style=\"stroke:black;stroke-width:2\" /><line x1=\"183.336\" y1=\"307.738\" x2=\"188.892\" y2=\"317.361\" stroke-linecap=\"round\" style=\"stroke:black;stroke-width:2\" /><line x1=\"188.892\" y1=\"317.361\" x2=\"183.336\" y2=\"326.984\" stroke-linecap=\"round\" style=\"stroke:black;stroke-width:2\" /><line x1=\"183.336\" y1=\"326.984\" x2=\"194.447\" y2=\"326.984\" stroke-linecap=\"round\" style=\"stroke:black;stroke-width:2\" /><line x1=\"194.447\" y1=\"326.984\" x2=\"200.003\" y2=\"336.607\" stroke-linecap=\"round\" style=\"stroke:black;stroke-width:2\" /><line x1=\"200.003\" y1=\"336.607\" x2=\"205.559\" y2=\"326.984\" stroke-linecap=\"round\" style=\"stroke:black;stroke-width:2\" /><line x1=\"205.559\" y1=\"326.984\" x2=\"216.67\" y2=\"326.984\" stroke-linecap=\"round\" style=\"stroke:black;stroke-width:2\" /><line x1=\"216.67\" y1=\"326.984\" x2=\"211.114\" y2=\"317.361\" stroke-linecap=\"round\" style=\"stroke:black;stroke-width:2\" /><line x1=\"211.114\" y1=\"317.361\" x2=\"216.67\" y2=\"307.738\" stroke-linecap=\"round\" style=\"stroke:black;stroke-width:2\" /><line x1=\"216.67\" y1=\"307.738\" x2=\"227.781\" y2=\"307.738\" stroke-linecap=\"round\" style=\"stroke:black;stroke-width:2\" /><line x1=\"227.781\" y1=\"307.738\" x2=\"233.337\" y2=\"317.361\" stroke-linecap=\"round\" style=\"stroke:black;stroke-width:2\" /><line x1=\"233.337\" y1=\"317.361\" x2=\"238.893\" y2=\"307.738\" stroke-linecap=\"round\" style=\"stroke:black;stroke-width:2\" /><line x1=\"238.893\" y1=\"307.738\" x2=\"250.004\" y2=\"307.738\" stroke-linecap=\"round\" style=\"stroke:black;stroke-width:2\" /><line x1=\"250.004\" y1=\"307.738\" x2=\"244.448\" y2=\"298.115\" stroke-linecap=\"round\" style=\"stroke:black;stroke-width:2\" /><line x1=\"244.448\" y1=\"298.115\" x2=\"250.004\" y2=\"288.492\" stroke-linecap=\"round\" style=\"stroke:black;stroke-width:2\" /><line x1=\"250.004\" y1=\"288.492\" x2=\"238.893\" y2=\"288.492\" stroke-linecap=\"round\" style=\"stroke:black;stroke-width:2\" /><line x1=\"238.893\" y1=\"288.492\" x2=\"233.337\" y2=\"278.869\" stroke-linecap=\"round\" style=\"stroke:black;stroke-width:2\" /><line x1=\"233.337\" y1=\"278.869\" x2=\"238.893\" y2=\"269.246\" stroke-linecap=\"round\" style=\"stroke:black;stroke-width:2\" /><line x1=\"238.893\" y1=\"269.246\" x2=\"250.004\" y2=\"269.246\" stroke-linecap=\"round\" style=\"stroke:black;stroke-width:2\" /><line x1=\"250.004\" y1=\"269.246\" x2=\"244.448\" y2=\"259.623\" stroke-linecap=\"round\" style=\"stroke:black;stroke-width:2\" /><line x1=\"244.448\" y1=\"259.623\" x2=\"250.004\" y2=\"250.0\" stroke-linecap=\"round\" style=\"stroke:black;stroke-width:2\" /><line x1=\"250.004\" y1=\"250.0\" x2=\"261.115\" y2=\"250.0\" stroke-linecap=\"round\" style=\"stroke:black;stroke-width:2\" /><line x1=\"261.115\" y1=\"250.0\" x2=\"266.671\" y2=\"259.623\" stroke-linecap=\"round\" style=\"stroke:black;stroke-width:2\" /><line x1=\"266.671\" y1=\"259.623\" x2=\"272.227\" y2=\"250.0\" stroke-linecap=\"round\" style=\"stroke:black;stroke-width:2\" /><line x1=\"272.227\" y1=\"250.0\" x2=\"283.338\" y2=\"250.0\" stroke-linecap=\"round\" style=\"stroke:black;stroke-width:2\" /><line x1=\"283.338\" y1=\"250.0\" x2=\"288.894\" y2=\"259.623\" stroke-linecap=\"round\" style=\"stroke:black;stroke-width:2\" /><line x1=\"288.894\" y1=\"259.623\" x2=\"283.338\" y2=\"269.246\" stroke-linecap=\"round\" style=\"stroke:black;stroke-width:2\" /><line x1=\"283.338\" y1=\"269.246\" x2=\"294.449\" y2=\"269.246\" stroke-linecap=\"round\" style=\"stroke:black;stroke-width:2\" /><line x1=\"294.449\" y1=\"269.246\" x2=\"300.005\" y2=\"278.869\" stroke-linecap=\"round\" style=\"stroke:black;stroke-width:2\" /><line x1=\"300.005\" y1=\"278.869\" x2=\"305.561\" y2=\"269.246\" stroke-linecap=\"round\" style=\"stroke:black;stroke-width:2\" /><line x1=\"305.561\" y1=\"269.246\" x2=\"316.672\" y2=\"269.246\" stroke-linecap=\"round\" style=\"stroke:black;stroke-width:2\" /><line x1=\"316.672\" y1=\"269.246\" x2=\"311.116\" y2=\"259.623\" stroke-linecap=\"round\" style=\"stroke:black;stroke-width:2\" /><line x1=\"311.116\" y1=\"259.623\" x2=\"316.672\" y2=\"250.0\" stroke-linecap=\"round\" style=\"stroke:black;stroke-width:2\" /><line x1=\"316.672\" y1=\"250.0\" x2=\"327.783\" y2=\"250.0\" stroke-linecap=\"round\" style=\"stroke:black;stroke-width:2\" /><line x1=\"327.783\" y1=\"250.0\" x2=\"333.339\" y2=\"259.623\" stroke-linecap=\"round\" style=\"stroke:black;stroke-width:2\" /><line x1=\"333.339\" y1=\"259.623\" x2=\"338.895\" y2=\"250.0\" stroke-linecap=\"round\" style=\"stroke:black;stroke-width:2\" /><line x1=\"338.895\" y1=\"250.0\" x2=\"348.895\" y2=\"250.0\" stroke-linecap=\"round\" style=\"stroke:black;stroke-width:2\" /><line x1=\"348.895\" y1=\"250.0\" x2=\"350.00611111111107\" y2=\"250.0\" stroke-linecap=\"round\" style=\"stroke:black;stroke-width:2\" />\n",
              "        \n",
              "        \n",
              "        <g id=\"turtle2\" visibility=\"visible\" transform=\"rotate(-90,350.00611111111107,250.0) translate(350.00611111111107, 250.0)\">\n",
              "<polygon points=\"0,16 2,14 1,10 4,7 7,9 9,8 6,5 7,1 5,-3 8,-6 6,-8 4,-5 0,-7 -4,-5 -6,-8 -8,-6 -5,-3 -7,1 -6,5 -9,8 -7,9 -4,7 -1,10 -2,14\" transform=\"skewX(0) scale(1,1)\" style=\"stroke:black;stroke-width:1;fill:black\" />\n",
              "</g>\n",
              "      </svg>\n",
              "    "
            ],
            "text/plain": [
              "<IPython.core.display.HTML object>"
            ]
          },
          "metadata": {},
          "output_type": "display_data"
        }
      ],
      "source": [
        "import ColabTurtlePlus.Turtle as t\n",
        "\n",
        "t.clearscreen()      # it's good to start every cell with this\n",
        "t.setup(500,500)     # setup the drawing area to be 500 pixels x 500 pixels\n",
        "t.showborder()       # show the border of the drawing area\n",
        "\n",
        "t.bgcolor(\"AliceBlue\")   # adjust to your preferences!\n",
        "t.shape(\"turtle2\")\n",
        "t.speed(10)\n",
        "t.width(2)\n",
        "\n",
        "def flakeside(sidelength, levels):\n",
        "    \"\"\" flakeside draws _one side_ of the fractal Koch snowflake\n",
        "    \"\"\"\n",
        "    if levels == 0:\n",
        "        t.forward(sidelength)\n",
        "    else:\n",
        "        # t.width(levels)\n",
        "        # t.dot(levels * 5,'green')\n",
        "        flakeside(sidelength/3, levels-1)\n",
        "        t.right(60)\n",
        "        flakeside(sidelength/3, levels-1)\n",
        "        t.left(120)\n",
        "        flakeside(sidelength/3, levels-1)\n",
        "        t.right(60)\n",
        "        flakeside(sidelength/3, levels-1)\n",
        "\n",
        "\n",
        "#\n",
        "# try it!\n",
        "#\n",
        "t.penup()\n",
        "t.goto(-200,0)  # move the pen to a \"southwest\" corner...\n",
        "t.pendown()\n",
        "\n",
        "flakeside(300,3)  # try it...\n"
      ]
    },
    {
      "cell_type": "code",
      "execution_count": 69,
      "metadata": {
        "colab": {
          "base_uri": "https://localhost:8080/",
          "height": 521
        },
        "id": "PwbAEbdARUGk",
        "outputId": "1a117d15-1cbc-40d5-8193-c95328ff2434"
      },
      "outputs": [
        {
          "data": {
            "text/html": [
              "\n",
              "      <svg width=\"500\" height=\"500\">  \n",
              "        <rect width=\"100%\" height=\"100%\" style=\"fill:aliceblue;stroke:gray;stroke-width:1\"/>\n",
              "        \n",
              "        \n",
              "        <line x1=\"50.0\" y1=\"350.0\" x2=\"61.111\" y2=\"350.0\" stroke-linecap=\"round\" style=\"stroke:black;stroke-width:2\" /><line x1=\"61.111\" y1=\"350.0\" x2=\"66.667\" y2=\"359.623\" stroke-linecap=\"round\" style=\"stroke:black;stroke-width:2\" /><line x1=\"66.667\" y1=\"359.623\" x2=\"72.223\" y2=\"350.0\" stroke-linecap=\"round\" style=\"stroke:black;stroke-width:2\" /><line x1=\"72.223\" y1=\"350.0\" x2=\"83.334\" y2=\"350.0\" stroke-linecap=\"round\" style=\"stroke:black;stroke-width:2\" /><line x1=\"83.334\" y1=\"350.0\" x2=\"88.89\" y2=\"359.623\" stroke-linecap=\"round\" style=\"stroke:black;stroke-width:2\" /><line x1=\"88.89\" y1=\"359.623\" x2=\"83.334\" y2=\"369.246\" stroke-linecap=\"round\" style=\"stroke:black;stroke-width:2\" /><line x1=\"83.334\" y1=\"369.246\" x2=\"94.445\" y2=\"369.246\" stroke-linecap=\"round\" style=\"stroke:black;stroke-width:2\" /><line x1=\"94.445\" y1=\"369.246\" x2=\"100.001\" y2=\"378.869\" stroke-linecap=\"round\" style=\"stroke:black;stroke-width:2\" /><line x1=\"100.001\" y1=\"378.869\" x2=\"105.557\" y2=\"369.246\" stroke-linecap=\"round\" style=\"stroke:black;stroke-width:2\" /><line x1=\"105.557\" y1=\"369.246\" x2=\"116.668\" y2=\"369.246\" stroke-linecap=\"round\" style=\"stroke:black;stroke-width:2\" /><line x1=\"116.668\" y1=\"369.246\" x2=\"111.112\" y2=\"359.623\" stroke-linecap=\"round\" style=\"stroke:black;stroke-width:2\" /><line x1=\"111.112\" y1=\"359.623\" x2=\"116.668\" y2=\"350.0\" stroke-linecap=\"round\" style=\"stroke:black;stroke-width:2\" /><line x1=\"116.668\" y1=\"350.0\" x2=\"127.779\" y2=\"350.0\" stroke-linecap=\"round\" style=\"stroke:black;stroke-width:2\" /><line x1=\"127.779\" y1=\"350.0\" x2=\"133.335\" y2=\"359.623\" stroke-linecap=\"round\" style=\"stroke:black;stroke-width:2\" /><line x1=\"133.335\" y1=\"359.623\" x2=\"138.891\" y2=\"350.0\" stroke-linecap=\"round\" style=\"stroke:black;stroke-width:2\" /><line x1=\"138.891\" y1=\"350.0\" x2=\"150.002\" y2=\"350.0\" stroke-linecap=\"round\" style=\"stroke:black;stroke-width:2\" /><line x1=\"150.002\" y1=\"350.0\" x2=\"155.558\" y2=\"359.623\" stroke-linecap=\"round\" style=\"stroke:black;stroke-width:2\" /><line x1=\"155.558\" y1=\"359.623\" x2=\"150.002\" y2=\"369.246\" stroke-linecap=\"round\" style=\"stroke:black;stroke-width:2\" /><line x1=\"150.002\" y1=\"369.246\" x2=\"161.113\" y2=\"369.246\" stroke-linecap=\"round\" style=\"stroke:black;stroke-width:2\" /><line x1=\"161.113\" y1=\"369.246\" x2=\"166.669\" y2=\"378.869\" stroke-linecap=\"round\" style=\"stroke:black;stroke-width:2\" /><line x1=\"166.669\" y1=\"378.869\" x2=\"161.113\" y2=\"388.492\" stroke-linecap=\"round\" style=\"stroke:black;stroke-width:2\" /><line x1=\"161.113\" y1=\"388.492\" x2=\"150.002\" y2=\"388.492\" stroke-linecap=\"round\" style=\"stroke:black;stroke-width:2\" /><line x1=\"150.002\" y1=\"388.492\" x2=\"155.558\" y2=\"398.115\" stroke-linecap=\"round\" style=\"stroke:black;stroke-width:2\" /><line x1=\"155.558\" y1=\"398.115\" x2=\"150.002\" y2=\"407.738\" stroke-linecap=\"round\" style=\"stroke:black;stroke-width:2\" /><line x1=\"150.002\" y1=\"407.738\" x2=\"161.113\" y2=\"407.738\" stroke-linecap=\"round\" style=\"stroke:black;stroke-width:2\" /><line x1=\"161.113\" y1=\"407.738\" x2=\"166.669\" y2=\"417.361\" stroke-linecap=\"round\" style=\"stroke:black;stroke-width:2\" /><line x1=\"166.669\" y1=\"417.361\" x2=\"172.225\" y2=\"407.738\" stroke-linecap=\"round\" style=\"stroke:black;stroke-width:2\" /><line x1=\"172.225\" y1=\"407.738\" x2=\"183.336\" y2=\"407.738\" stroke-linecap=\"round\" style=\"stroke:black;stroke-width:2\" /><line x1=\"183.336\" y1=\"407.738\" x2=\"188.892\" y2=\"417.361\" stroke-linecap=\"round\" style=\"stroke:black;stroke-width:2\" /><line x1=\"188.892\" y1=\"417.361\" x2=\"183.336\" y2=\"426.984\" stroke-linecap=\"round\" style=\"stroke:black;stroke-width:2\" /><line x1=\"183.336\" y1=\"426.984\" x2=\"194.447\" y2=\"426.984\" stroke-linecap=\"round\" style=\"stroke:black;stroke-width:2\" /><line x1=\"194.447\" y1=\"426.984\" x2=\"200.003\" y2=\"436.607\" stroke-linecap=\"round\" style=\"stroke:black;stroke-width:2\" /><line x1=\"200.003\" y1=\"436.607\" x2=\"205.559\" y2=\"426.984\" stroke-linecap=\"round\" style=\"stroke:black;stroke-width:2\" /><line x1=\"205.559\" y1=\"426.984\" x2=\"216.67\" y2=\"426.984\" stroke-linecap=\"round\" style=\"stroke:black;stroke-width:2\" /><line x1=\"216.67\" y1=\"426.984\" x2=\"211.114\" y2=\"417.361\" stroke-linecap=\"round\" style=\"stroke:black;stroke-width:2\" /><line x1=\"211.114\" y1=\"417.361\" x2=\"216.67\" y2=\"407.738\" stroke-linecap=\"round\" style=\"stroke:black;stroke-width:2\" /><line x1=\"216.67\" y1=\"407.738\" x2=\"227.781\" y2=\"407.738\" stroke-linecap=\"round\" style=\"stroke:black;stroke-width:2\" /><line x1=\"227.781\" y1=\"407.738\" x2=\"233.337\" y2=\"417.361\" stroke-linecap=\"round\" style=\"stroke:black;stroke-width:2\" /><line x1=\"233.337\" y1=\"417.361\" x2=\"238.893\" y2=\"407.738\" stroke-linecap=\"round\" style=\"stroke:black;stroke-width:2\" /><line x1=\"238.893\" y1=\"407.738\" x2=\"250.004\" y2=\"407.738\" stroke-linecap=\"round\" style=\"stroke:black;stroke-width:2\" /><line x1=\"250.004\" y1=\"407.738\" x2=\"244.448\" y2=\"398.115\" stroke-linecap=\"round\" style=\"stroke:black;stroke-width:2\" /><line x1=\"244.448\" y1=\"398.115\" x2=\"250.004\" y2=\"388.492\" stroke-linecap=\"round\" style=\"stroke:black;stroke-width:2\" /><line x1=\"250.004\" y1=\"388.492\" x2=\"238.893\" y2=\"388.492\" stroke-linecap=\"round\" style=\"stroke:black;stroke-width:2\" /><line x1=\"238.893\" y1=\"388.492\" x2=\"233.337\" y2=\"378.869\" stroke-linecap=\"round\" style=\"stroke:black;stroke-width:2\" /><line x1=\"233.337\" y1=\"378.869\" x2=\"238.893\" y2=\"369.246\" stroke-linecap=\"round\" style=\"stroke:black;stroke-width:2\" /><line x1=\"238.893\" y1=\"369.246\" x2=\"250.004\" y2=\"369.246\" stroke-linecap=\"round\" style=\"stroke:black;stroke-width:2\" /><line x1=\"250.004\" y1=\"369.246\" x2=\"244.448\" y2=\"359.623\" stroke-linecap=\"round\" style=\"stroke:black;stroke-width:2\" /><line x1=\"244.448\" y1=\"359.623\" x2=\"250.004\" y2=\"350.0\" stroke-linecap=\"round\" style=\"stroke:black;stroke-width:2\" /><line x1=\"250.004\" y1=\"350.0\" x2=\"261.115\" y2=\"350.0\" stroke-linecap=\"round\" style=\"stroke:black;stroke-width:2\" /><line x1=\"261.115\" y1=\"350.0\" x2=\"266.671\" y2=\"359.623\" stroke-linecap=\"round\" style=\"stroke:black;stroke-width:2\" /><line x1=\"266.671\" y1=\"359.623\" x2=\"272.227\" y2=\"350.0\" stroke-linecap=\"round\" style=\"stroke:black;stroke-width:2\" /><line x1=\"272.227\" y1=\"350.0\" x2=\"283.338\" y2=\"350.0\" stroke-linecap=\"round\" style=\"stroke:black;stroke-width:2\" /><line x1=\"283.338\" y1=\"350.0\" x2=\"288.894\" y2=\"359.623\" stroke-linecap=\"round\" style=\"stroke:black;stroke-width:2\" /><line x1=\"288.894\" y1=\"359.623\" x2=\"283.338\" y2=\"369.246\" stroke-linecap=\"round\" style=\"stroke:black;stroke-width:2\" /><line x1=\"283.338\" y1=\"369.246\" x2=\"294.449\" y2=\"369.246\" stroke-linecap=\"round\" style=\"stroke:black;stroke-width:2\" /><line x1=\"294.449\" y1=\"369.246\" x2=\"300.005\" y2=\"378.869\" stroke-linecap=\"round\" style=\"stroke:black;stroke-width:2\" /><line x1=\"300.005\" y1=\"378.869\" x2=\"305.561\" y2=\"369.246\" stroke-linecap=\"round\" style=\"stroke:black;stroke-width:2\" /><line x1=\"305.561\" y1=\"369.246\" x2=\"316.672\" y2=\"369.246\" stroke-linecap=\"round\" style=\"stroke:black;stroke-width:2\" /><line x1=\"316.672\" y1=\"369.246\" x2=\"311.116\" y2=\"359.623\" stroke-linecap=\"round\" style=\"stroke:black;stroke-width:2\" /><line x1=\"311.116\" y1=\"359.623\" x2=\"316.672\" y2=\"350.0\" stroke-linecap=\"round\" style=\"stroke:black;stroke-width:2\" /><line x1=\"316.672\" y1=\"350.0\" x2=\"327.783\" y2=\"350.0\" stroke-linecap=\"round\" style=\"stroke:black;stroke-width:2\" /><line x1=\"327.783\" y1=\"350.0\" x2=\"333.339\" y2=\"359.623\" stroke-linecap=\"round\" style=\"stroke:black;stroke-width:2\" /><line x1=\"333.339\" y1=\"359.623\" x2=\"338.895\" y2=\"350.0\" stroke-linecap=\"round\" style=\"stroke:black;stroke-width:2\" /><line x1=\"338.895\" y1=\"350.0\" x2=\"350.006\" y2=\"350.0\" stroke-linecap=\"round\" style=\"stroke:black;stroke-width:2\" /><line x1=\"350.006\" y1=\"350.0\" x2=\"344.45\" y2=\"340.377\" stroke-linecap=\"round\" style=\"stroke:black;stroke-width:2\" /><line x1=\"344.45\" y1=\"340.377\" x2=\"350.006\" y2=\"330.754\" stroke-linecap=\"round\" style=\"stroke:black;stroke-width:2\" /><line x1=\"350.006\" y1=\"330.754\" x2=\"338.895\" y2=\"330.754\" stroke-linecap=\"round\" style=\"stroke:black;stroke-width:2\" /><line x1=\"338.895\" y1=\"330.754\" x2=\"333.339\" y2=\"321.131\" stroke-linecap=\"round\" style=\"stroke:black;stroke-width:2\" /><line x1=\"333.339\" y1=\"321.131\" x2=\"338.895\" y2=\"311.508\" stroke-linecap=\"round\" style=\"stroke:black;stroke-width:2\" /><line x1=\"338.895\" y1=\"311.508\" x2=\"350.006\" y2=\"311.508\" stroke-linecap=\"round\" style=\"stroke:black;stroke-width:2\" /><line x1=\"350.006\" y1=\"311.508\" x2=\"344.45\" y2=\"301.885\" stroke-linecap=\"round\" style=\"stroke:black;stroke-width:2\" /><line x1=\"344.45\" y1=\"301.885\" x2=\"350.006\" y2=\"292.262\" stroke-linecap=\"round\" style=\"stroke:black;stroke-width:2\" /><line x1=\"350.006\" y1=\"292.262\" x2=\"338.895\" y2=\"292.262\" stroke-linecap=\"round\" style=\"stroke:black;stroke-width:2\" /><line x1=\"338.895\" y1=\"292.262\" x2=\"333.339\" y2=\"282.639\" stroke-linecap=\"round\" style=\"stroke:black;stroke-width:2\" /><line x1=\"333.339\" y1=\"282.639\" x2=\"327.783\" y2=\"292.262\" stroke-linecap=\"round\" style=\"stroke:black;stroke-width:2\" /><line x1=\"327.783\" y1=\"292.262\" x2=\"316.672\" y2=\"292.262\" stroke-linecap=\"round\" style=\"stroke:black;stroke-width:2\" /><line x1=\"316.672\" y1=\"292.262\" x2=\"311.116\" y2=\"282.639\" stroke-linecap=\"round\" style=\"stroke:black;stroke-width:2\" /><line x1=\"311.116\" y1=\"282.639\" x2=\"316.672\" y2=\"273.016\" stroke-linecap=\"round\" style=\"stroke:black;stroke-width:2\" /><line x1=\"316.672\" y1=\"273.016\" x2=\"305.561\" y2=\"273.016\" stroke-linecap=\"round\" style=\"stroke:black;stroke-width:2\" /><line x1=\"305.561\" y1=\"273.016\" x2=\"300.005\" y2=\"263.393\" stroke-linecap=\"round\" style=\"stroke:black;stroke-width:2\" /><line x1=\"300.005\" y1=\"263.393\" x2=\"305.561\" y2=\"253.77\" stroke-linecap=\"round\" style=\"stroke:black;stroke-width:2\" /><line x1=\"305.561\" y1=\"253.77\" x2=\"316.672\" y2=\"253.77\" stroke-linecap=\"round\" style=\"stroke:black;stroke-width:2\" /><line x1=\"316.672\" y1=\"253.77\" x2=\"311.116\" y2=\"244.147\" stroke-linecap=\"round\" style=\"stroke:black;stroke-width:2\" /><line x1=\"311.116\" y1=\"244.147\" x2=\"316.672\" y2=\"234.524\" stroke-linecap=\"round\" style=\"stroke:black;stroke-width:2\" /><line x1=\"316.672\" y1=\"234.524\" x2=\"327.783\" y2=\"234.524\" stroke-linecap=\"round\" style=\"stroke:black;stroke-width:2\" /><line x1=\"327.783\" y1=\"234.524\" x2=\"333.339\" y2=\"244.147\" stroke-linecap=\"round\" style=\"stroke:black;stroke-width:2\" /><line x1=\"333.339\" y1=\"244.147\" x2=\"338.895\" y2=\"234.524\" stroke-linecap=\"round\" style=\"stroke:black;stroke-width:2\" /><line x1=\"338.895\" y1=\"234.524\" x2=\"350.006\" y2=\"234.524\" stroke-linecap=\"round\" style=\"stroke:black;stroke-width:2\" /><line x1=\"350.006\" y1=\"234.524\" x2=\"344.45\" y2=\"224.901\" stroke-linecap=\"round\" style=\"stroke:black;stroke-width:2\" /><line x1=\"344.45\" y1=\"224.901\" x2=\"350.006\" y2=\"215.278\" stroke-linecap=\"round\" style=\"stroke:black;stroke-width:2\" /><line x1=\"350.006\" y1=\"215.278\" x2=\"338.895\" y2=\"215.278\" stroke-linecap=\"round\" style=\"stroke:black;stroke-width:2\" /><line x1=\"338.895\" y1=\"215.278\" x2=\"333.339\" y2=\"205.655\" stroke-linecap=\"round\" style=\"stroke:black;stroke-width:2\" /><line x1=\"333.339\" y1=\"205.655\" x2=\"338.895\" y2=\"196.032\" stroke-linecap=\"round\" style=\"stroke:black;stroke-width:2\" /><line x1=\"338.895\" y1=\"196.032\" x2=\"350.006\" y2=\"196.032\" stroke-linecap=\"round\" style=\"stroke:black;stroke-width:2\" /><line x1=\"350.006\" y1=\"196.032\" x2=\"344.45\" y2=\"186.409\" stroke-linecap=\"round\" style=\"stroke:black;stroke-width:2\" /><line x1=\"344.45\" y1=\"186.409\" x2=\"350.006\" y2=\"176.786\" stroke-linecap=\"round\" style=\"stroke:black;stroke-width:2\" /><line x1=\"350.006\" y1=\"176.786\" x2=\"338.895\" y2=\"176.786\" stroke-linecap=\"round\" style=\"stroke:black;stroke-width:2\" /><line x1=\"338.895\" y1=\"176.786\" x2=\"333.339\" y2=\"167.163\" stroke-linecap=\"round\" style=\"stroke:black;stroke-width:2\" /><line x1=\"333.339\" y1=\"167.163\" x2=\"327.783\" y2=\"176.786\" stroke-linecap=\"round\" style=\"stroke:black;stroke-width:2\" /><line x1=\"327.783\" y1=\"176.786\" x2=\"316.672\" y2=\"176.786\" stroke-linecap=\"round\" style=\"stroke:black;stroke-width:2\" /><line x1=\"316.672\" y1=\"176.786\" x2=\"311.116\" y2=\"167.163\" stroke-linecap=\"round\" style=\"stroke:black;stroke-width:2\" /><line x1=\"311.116\" y1=\"167.163\" x2=\"316.672\" y2=\"157.54\" stroke-linecap=\"round\" style=\"stroke:black;stroke-width:2\" /><line x1=\"316.672\" y1=\"157.54\" x2=\"305.561\" y2=\"157.54\" stroke-linecap=\"round\" style=\"stroke:black;stroke-width:2\" /><line x1=\"305.561\" y1=\"157.54\" x2=\"300.005\" y2=\"147.917\" stroke-linecap=\"round\" style=\"stroke:black;stroke-width:2\" /><line x1=\"300.005\" y1=\"147.917\" x2=\"294.449\" y2=\"157.54\" stroke-linecap=\"round\" style=\"stroke:black;stroke-width:2\" /><line x1=\"294.449\" y1=\"157.54\" x2=\"283.338\" y2=\"157.54\" stroke-linecap=\"round\" style=\"stroke:black;stroke-width:2\" /><line x1=\"283.338\" y1=\"157.54\" x2=\"288.894\" y2=\"167.163\" stroke-linecap=\"round\" style=\"stroke:black;stroke-width:2\" /><line x1=\"288.894\" y1=\"167.163\" x2=\"283.338\" y2=\"176.786\" stroke-linecap=\"round\" style=\"stroke:black;stroke-width:2\" /><line x1=\"283.338\" y1=\"176.786\" x2=\"272.227\" y2=\"176.786\" stroke-linecap=\"round\" style=\"stroke:black;stroke-width:2\" /><line x1=\"272.227\" y1=\"176.786\" x2=\"266.671\" y2=\"167.163\" stroke-linecap=\"round\" style=\"stroke:black;stroke-width:2\" /><line x1=\"266.671\" y1=\"167.163\" x2=\"261.115\" y2=\"176.786\" stroke-linecap=\"round\" style=\"stroke:black;stroke-width:2\" /><line x1=\"261.115\" y1=\"176.786\" x2=\"250.004\" y2=\"176.786\" stroke-linecap=\"round\" style=\"stroke:black;stroke-width:2\" /><line x1=\"250.004\" y1=\"176.786\" x2=\"244.448\" y2=\"167.163\" stroke-linecap=\"round\" style=\"stroke:black;stroke-width:2\" /><line x1=\"244.448\" y1=\"167.163\" x2=\"250.004\" y2=\"157.54\" stroke-linecap=\"round\" style=\"stroke:black;stroke-width:2\" /><line x1=\"250.004\" y1=\"157.54\" x2=\"238.893\" y2=\"157.54\" stroke-linecap=\"round\" style=\"stroke:black;stroke-width:2\" /><line x1=\"238.893\" y1=\"157.54\" x2=\"233.337\" y2=\"147.917\" stroke-linecap=\"round\" style=\"stroke:black;stroke-width:2\" /><line x1=\"233.337\" y1=\"147.917\" x2=\"238.893\" y2=\"138.294\" stroke-linecap=\"round\" style=\"stroke:black;stroke-width:2\" /><line x1=\"238.893\" y1=\"138.294\" x2=\"250.004\" y2=\"138.294\" stroke-linecap=\"round\" style=\"stroke:black;stroke-width:2\" /><line x1=\"250.004\" y1=\"138.294\" x2=\"244.448\" y2=\"128.671\" stroke-linecap=\"round\" style=\"stroke:black;stroke-width:2\" /><line x1=\"244.448\" y1=\"128.671\" x2=\"250.004\" y2=\"119.048\" stroke-linecap=\"round\" style=\"stroke:black;stroke-width:2\" /><line x1=\"250.004\" y1=\"119.048\" x2=\"238.893\" y2=\"119.048\" stroke-linecap=\"round\" style=\"stroke:black;stroke-width:2\" /><line x1=\"238.893\" y1=\"119.048\" x2=\"233.337\" y2=\"109.425\" stroke-linecap=\"round\" style=\"stroke:black;stroke-width:2\" /><line x1=\"233.337\" y1=\"109.425\" x2=\"227.781\" y2=\"119.048\" stroke-linecap=\"round\" style=\"stroke:black;stroke-width:2\" /><line x1=\"227.781\" y1=\"119.048\" x2=\"216.67\" y2=\"119.048\" stroke-linecap=\"round\" style=\"stroke:black;stroke-width:2\" /><line x1=\"216.67\" y1=\"119.048\" x2=\"211.114\" y2=\"109.425\" stroke-linecap=\"round\" style=\"stroke:black;stroke-width:2\" /><line x1=\"211.114\" y1=\"109.425\" x2=\"216.67\" y2=\"99.802\" stroke-linecap=\"round\" style=\"stroke:black;stroke-width:2\" /><line x1=\"216.67\" y1=\"99.802\" x2=\"205.559\" y2=\"99.802\" stroke-linecap=\"round\" style=\"stroke:black;stroke-width:2\" /><line x1=\"205.559\" y1=\"99.802\" x2=\"200.003\" y2=\"90.179\" stroke-linecap=\"round\" style=\"stroke:black;stroke-width:2\" /><line x1=\"200.003\" y1=\"90.179\" x2=\"194.447\" y2=\"99.802\" stroke-linecap=\"round\" style=\"stroke:black;stroke-width:2\" /><line x1=\"194.447\" y1=\"99.802\" x2=\"183.336\" y2=\"99.802\" stroke-linecap=\"round\" style=\"stroke:black;stroke-width:2\" /><line x1=\"183.336\" y1=\"99.802\" x2=\"188.892\" y2=\"109.425\" stroke-linecap=\"round\" style=\"stroke:black;stroke-width:2\" /><line x1=\"188.892\" y1=\"109.425\" x2=\"183.336\" y2=\"119.048\" stroke-linecap=\"round\" style=\"stroke:black;stroke-width:2\" /><line x1=\"183.336\" y1=\"119.048\" x2=\"172.225\" y2=\"119.048\" stroke-linecap=\"round\" style=\"stroke:black;stroke-width:2\" /><line x1=\"172.225\" y1=\"119.048\" x2=\"166.669\" y2=\"109.425\" stroke-linecap=\"round\" style=\"stroke:black;stroke-width:2\" /><line x1=\"166.669\" y1=\"109.425\" x2=\"161.113\" y2=\"119.048\" stroke-linecap=\"round\" style=\"stroke:black;stroke-width:2\" /><line x1=\"161.113\" y1=\"119.048\" x2=\"150.002\" y2=\"119.048\" stroke-linecap=\"round\" style=\"stroke:black;stroke-width:2\" /><line x1=\"150.002\" y1=\"119.048\" x2=\"155.558\" y2=\"128.671\" stroke-linecap=\"round\" style=\"stroke:black;stroke-width:2\" /><line x1=\"155.558\" y1=\"128.671\" x2=\"150.002\" y2=\"138.294\" stroke-linecap=\"round\" style=\"stroke:black;stroke-width:2\" /><line x1=\"150.002\" y1=\"138.294\" x2=\"161.113\" y2=\"138.294\" stroke-linecap=\"round\" style=\"stroke:black;stroke-width:2\" /><line x1=\"161.113\" y1=\"138.294\" x2=\"166.669\" y2=\"147.917\" stroke-linecap=\"round\" style=\"stroke:black;stroke-width:2\" /><line x1=\"166.669\" y1=\"147.917\" x2=\"161.113\" y2=\"157.54\" stroke-linecap=\"round\" style=\"stroke:black;stroke-width:2\" /><line x1=\"161.113\" y1=\"157.54\" x2=\"150.002\" y2=\"157.54\" stroke-linecap=\"round\" style=\"stroke:black;stroke-width:2\" /><line x1=\"150.002\" y1=\"157.54\" x2=\"155.558\" y2=\"167.163\" stroke-linecap=\"round\" style=\"stroke:black;stroke-width:2\" /><line x1=\"155.558\" y1=\"167.163\" x2=\"150.002\" y2=\"176.786\" stroke-linecap=\"round\" style=\"stroke:black;stroke-width:2\" /><line x1=\"150.002\" y1=\"176.786\" x2=\"138.891\" y2=\"176.786\" stroke-linecap=\"round\" style=\"stroke:black;stroke-width:2\" /><line x1=\"138.891\" y1=\"176.786\" x2=\"133.335\" y2=\"167.163\" stroke-linecap=\"round\" style=\"stroke:black;stroke-width:2\" /><line x1=\"133.335\" y1=\"167.163\" x2=\"127.779\" y2=\"176.786\" stroke-linecap=\"round\" style=\"stroke:black;stroke-width:2\" /><line x1=\"127.779\" y1=\"176.786\" x2=\"116.668\" y2=\"176.786\" stroke-linecap=\"round\" style=\"stroke:black;stroke-width:2\" /><line x1=\"116.668\" y1=\"176.786\" x2=\"111.112\" y2=\"167.163\" stroke-linecap=\"round\" style=\"stroke:black;stroke-width:2\" /><line x1=\"111.112\" y1=\"167.163\" x2=\"116.668\" y2=\"157.54\" stroke-linecap=\"round\" style=\"stroke:black;stroke-width:2\" /><line x1=\"116.668\" y1=\"157.54\" x2=\"105.557\" y2=\"157.54\" stroke-linecap=\"round\" style=\"stroke:black;stroke-width:2\" /><line x1=\"105.557\" y1=\"157.54\" x2=\"100.001\" y2=\"147.917\" stroke-linecap=\"round\" style=\"stroke:black;stroke-width:2\" /><line x1=\"100.001\" y1=\"147.917\" x2=\"94.445\" y2=\"157.54\" stroke-linecap=\"round\" style=\"stroke:black;stroke-width:2\" /><line x1=\"94.445\" y1=\"157.54\" x2=\"83.334\" y2=\"157.54\" stroke-linecap=\"round\" style=\"stroke:black;stroke-width:2\" /><line x1=\"83.334\" y1=\"157.54\" x2=\"88.89\" y2=\"167.163\" stroke-linecap=\"round\" style=\"stroke:black;stroke-width:2\" /><line x1=\"88.89\" y1=\"167.163\" x2=\"83.334\" y2=\"176.786\" stroke-linecap=\"round\" style=\"stroke:black;stroke-width:2\" /><line x1=\"83.334\" y1=\"176.786\" x2=\"72.223\" y2=\"176.786\" stroke-linecap=\"round\" style=\"stroke:black;stroke-width:2\" /><line x1=\"72.223\" y1=\"176.786\" x2=\"66.667\" y2=\"167.163\" stroke-linecap=\"round\" style=\"stroke:black;stroke-width:2\" /><line x1=\"66.667\" y1=\"167.163\" x2=\"61.111\" y2=\"176.786\" stroke-linecap=\"round\" style=\"stroke:black;stroke-width:2\" /><line x1=\"61.111\" y1=\"176.786\" x2=\"50.0\" y2=\"176.786\" stroke-linecap=\"round\" style=\"stroke:black;stroke-width:2\" /><line x1=\"50.0\" y1=\"176.786\" x2=\"55.556\" y2=\"186.409\" stroke-linecap=\"round\" style=\"stroke:black;stroke-width:2\" /><line x1=\"55.556\" y1=\"186.409\" x2=\"50.0\" y2=\"196.032\" stroke-linecap=\"round\" style=\"stroke:black;stroke-width:2\" /><line x1=\"50.0\" y1=\"196.032\" x2=\"61.111\" y2=\"196.032\" stroke-linecap=\"round\" style=\"stroke:black;stroke-width:2\" /><line x1=\"61.111\" y1=\"196.032\" x2=\"66.667\" y2=\"205.655\" stroke-linecap=\"round\" style=\"stroke:black;stroke-width:2\" /><line x1=\"66.667\" y1=\"205.655\" x2=\"61.111\" y2=\"215.278\" stroke-linecap=\"round\" style=\"stroke:black;stroke-width:2\" /><line x1=\"61.111\" y1=\"215.278\" x2=\"50.0\" y2=\"215.278\" stroke-linecap=\"round\" style=\"stroke:black;stroke-width:2\" /><line x1=\"50.0\" y1=\"215.278\" x2=\"55.556\" y2=\"224.901\" stroke-linecap=\"round\" style=\"stroke:black;stroke-width:2\" /><line x1=\"55.556\" y1=\"224.901\" x2=\"50.0\" y2=\"234.524\" stroke-linecap=\"round\" style=\"stroke:black;stroke-width:2\" /><line x1=\"50.0\" y1=\"234.524\" x2=\"61.111\" y2=\"234.524\" stroke-linecap=\"round\" style=\"stroke:black;stroke-width:2\" /><line x1=\"61.111\" y1=\"234.524\" x2=\"66.667\" y2=\"244.147\" stroke-linecap=\"round\" style=\"stroke:black;stroke-width:2\" /><line x1=\"66.667\" y1=\"244.147\" x2=\"72.223\" y2=\"234.524\" stroke-linecap=\"round\" style=\"stroke:black;stroke-width:2\" /><line x1=\"72.223\" y1=\"234.524\" x2=\"83.334\" y2=\"234.524\" stroke-linecap=\"round\" style=\"stroke:black;stroke-width:2\" /><line x1=\"83.334\" y1=\"234.524\" x2=\"88.89\" y2=\"244.147\" stroke-linecap=\"round\" style=\"stroke:black;stroke-width:2\" /><line x1=\"88.89\" y1=\"244.147\" x2=\"83.334\" y2=\"253.77\" stroke-linecap=\"round\" style=\"stroke:black;stroke-width:2\" /><line x1=\"83.334\" y1=\"253.77\" x2=\"94.445\" y2=\"253.77\" stroke-linecap=\"round\" style=\"stroke:black;stroke-width:2\" /><line x1=\"94.445\" y1=\"253.77\" x2=\"100.001\" y2=\"263.393\" stroke-linecap=\"round\" style=\"stroke:black;stroke-width:2\" /><line x1=\"100.001\" y1=\"263.393\" x2=\"94.445\" y2=\"273.016\" stroke-linecap=\"round\" style=\"stroke:black;stroke-width:2\" /><line x1=\"94.445\" y1=\"273.016\" x2=\"83.334\" y2=\"273.016\" stroke-linecap=\"round\" style=\"stroke:black;stroke-width:2\" /><line x1=\"83.334\" y1=\"273.016\" x2=\"88.89\" y2=\"282.639\" stroke-linecap=\"round\" style=\"stroke:black;stroke-width:2\" /><line x1=\"88.89\" y1=\"282.639\" x2=\"83.334\" y2=\"292.262\" stroke-linecap=\"round\" style=\"stroke:black;stroke-width:2\" /><line x1=\"83.334\" y1=\"292.262\" x2=\"72.223\" y2=\"292.262\" stroke-linecap=\"round\" style=\"stroke:black;stroke-width:2\" /><line x1=\"72.223\" y1=\"292.262\" x2=\"66.667\" y2=\"282.639\" stroke-linecap=\"round\" style=\"stroke:black;stroke-width:2\" /><line x1=\"66.667\" y1=\"282.639\" x2=\"61.111\" y2=\"292.262\" stroke-linecap=\"round\" style=\"stroke:black;stroke-width:2\" /><line x1=\"61.111\" y1=\"292.262\" x2=\"50.0\" y2=\"292.262\" stroke-linecap=\"round\" style=\"stroke:black;stroke-width:2\" /><line x1=\"50.0\" y1=\"292.262\" x2=\"55.556\" y2=\"301.885\" stroke-linecap=\"round\" style=\"stroke:black;stroke-width:2\" /><line x1=\"55.556\" y1=\"301.885\" x2=\"50.0\" y2=\"311.508\" stroke-linecap=\"round\" style=\"stroke:black;stroke-width:2\" /><line x1=\"50.0\" y1=\"311.508\" x2=\"61.111\" y2=\"311.508\" stroke-linecap=\"round\" style=\"stroke:black;stroke-width:2\" /><line x1=\"61.111\" y1=\"311.508\" x2=\"66.667\" y2=\"321.131\" stroke-linecap=\"round\" style=\"stroke:black;stroke-width:2\" /><line x1=\"66.667\" y1=\"321.131\" x2=\"61.111\" y2=\"330.754\" stroke-linecap=\"round\" style=\"stroke:black;stroke-width:2\" /><line x1=\"61.111\" y1=\"330.754\" x2=\"50.0\" y2=\"330.754\" stroke-linecap=\"round\" style=\"stroke:black;stroke-width:2\" /><line x1=\"50.0\" y1=\"330.754\" x2=\"55.556\" y2=\"340.377\" stroke-linecap=\"round\" style=\"stroke:black;stroke-width:2\" /><line x1=\"55.556\" y1=\"340.377\" x2=\"50.0\" y2=\"350.0\" stroke-linecap=\"round\" style=\"stroke:black;stroke-width:2\" />\n",
              "        \n",
              "        \n",
              "        <g id=\"turtle2\" visibility=\"visible\" transform=\"rotate(30,50.0,350.0) translate(50.0, 350.0)\">\n",
              "<polygon points=\"0,16 2,14 1,10 4,7 7,9 9,8 6,5 7,1 5,-3 8,-6 6,-8 4,-5 0,-7 -4,-5 -6,-8 -8,-6 -5,-3 -7,1 -6,5 -9,8 -7,9 -4,7 -1,10 -2,14\" transform=\"skewX(0) scale(1,1)\" style=\"stroke:black;stroke-width:1;fill:black\" />\n",
              "<animateTransform id = \"one\" attributeName=\"transform\" \n",
              "                      type=\"scale\"\n",
              "                      from=\"1 1\" to=\"1 1\"\n",
              "                      begin=\"0s\" dur=\"0.01s\"\n",
              "                      repeatCount=\"1\"\n",
              "                      additive=\"sum\"\n",
              "                      fill=\"freeze\"\n",
              "                /><animateTransform attributeName=\"transform\"\n",
              "                    type=\"rotate\"\n",
              "                    from=\"0 0 0\" to =\"-120 0 0\"\n",
              "                    begin=\"one.end\" dur=\"0.10666666666666666s\"\n",
              "                    repeatCount=\"1\"\n",
              "                    additive=\"sum\"\n",
              "                    fill=\"freeze\"\n",
              "                /></g>\n",
              "      </svg>\n",
              "    "
            ],
            "text/plain": [
              "<IPython.core.display.HTML object>"
            ]
          },
          "metadata": {},
          "output_type": "display_data"
        }
      ],
      "source": [
        "import ColabTurtlePlus.Turtle as t\n",
        "\n",
        "t.clearscreen()      # it's good to start every cell with this\n",
        "t.setup(500,500)     # setup the drawing area to be 500 pixels x 500 pixels\n",
        "t.showborder()       # show the border of the drawing area\n",
        "\n",
        "t.bgcolor(\"AliceBlue\")   # adjust to your preferences!\n",
        "t.shape(\"turtle2\")\n",
        "t.speed(10)\n",
        "t.width(2)\n",
        "\n",
        "def snowflake(sidelength, levels):\n",
        "    \"\"\"Fractal snowflake function, complete.\n",
        "       sidelength: pixels in the largest-scale triangle side\n",
        "       levels: the number of recursive levels in each side\n",
        "    \"\"\"\n",
        "    flakeside(sidelength, levels)     # needs to be implemented - see below\n",
        "    t.left(120)\n",
        "    flakeside(sidelength, levels)\n",
        "    t.left(120)\n",
        "    flakeside(sidelength, levels)\n",
        "    t.left(120)\n",
        "\n",
        "\n",
        "# You'll need both the snowflake function (provided) and flakeside, which you will have written:\n",
        "\n",
        "t.penup()\n",
        "t.goto(-200,-100)  # move the pen to a \"southwest\" corner...\n",
        "t.pendown()\n",
        "\n",
        "snowflake(300,6)   # two recursive levels deep!"
      ]
    },
    {
      "cell_type": "markdown",
      "metadata": {
        "id": "m_n0JcwaaqVC"
      },
      "source": [
        "### More turtle"
      ]
    },
    {
      "cell_type": "code",
      "execution_count": 178,
      "metadata": {
        "colab": {
          "base_uri": "https://localhost:8080/",
          "height": 521
        },
        "id": "NDBKSska90kK",
        "outputId": "92c6bb26-f8c7-468e-f481-0c34c509a139"
      },
      "outputs": [
        {
          "data": {
            "text/html": [
              "\n",
              "      <svg width=\"500\" height=\"500\">  \n",
              "        <rect width=\"100%\" height=\"100%\" style=\"fill:aliceblue;stroke:gray;stroke-width:1\"/>\n",
              "        \n",
              "        \n",
              "        <path fill-rule=\"evenodd\" fill-opacity=\"1\" d=\"M 250.0 250.0  L 500.0 250.0  L 297.746 396.946  L 375.0 159.182  L 452.254 396.946  L 250.0 250.0  L 280.902 345.106  L 200.0 286.327  L 300.0 286.327  L 219.098 345.106  L 250.0 250.0  L 209.549 279.389  L 225.0 231.836  L 240.451 279.389  L 200.0 250.0  L 250.0 250.0  L 223.033 230.407  L 256.366 230.407  L 229.399 250.0  L 239.7 218.298  L 250.001 250.0  L 260.302 218.298  L 270.603 250.0  L 243.636 230.407  L 276.969 230.407  L 250.002 250.0 \" stroke-linecap=\"round\" style=\"stroke:black;stroke-width:2\" fill=\"gold\" />\n",
              "        \n",
              "        \n",
              "        <g id=\"turtle2\" visibility=\"visible\" transform=\"rotate(-90.0,150.002,250.0) translate(150.002, 250.0)\">\n",
              "<polygon points=\"0,16 2,14 1,10 4,7 7,9 9,8 6,5 7,1 5,-3 8,-6 6,-8 4,-5 0,-7 -4,-5 -6,-8 -8,-6 -5,-3 -7,1 -6,5 -9,8 -7,9 -4,7 -1,10 -2,14\" transform=\"skewX(0) scale(1,1)\" style=\"stroke:black;stroke-width:1;fill:gold\" />\n",
              "</g>\n",
              "      </svg>\n",
              "    "
            ],
            "text/plain": [
              "<IPython.core.display.HTML object>"
            ]
          },
          "metadata": {},
          "output_type": "display_data"
        }
      ],
      "source": [
        "\n",
        "t.clearscreen()\n",
        "t.setup(500, 500)\n",
        "t.showborder()\n",
        "t.bgcolor(\"AliceBlue\")\n",
        "t.shape(\"turtle2\")\n",
        "t.speed(10)\n",
        "t.width(2)\n",
        "\n",
        "def star(n, length, angle):\n",
        "    if n == 0:\n",
        "        return\n",
        "    else:\n",
        "        for _ in range(5):\n",
        "            t.forward(length)\n",
        "            t.right(144)\n",
        "        t.right(angle)\n",
        "        star(n - 1, length/(n/2),angle)\n",
        "\n",
        "\n",
        "\n",
        "t.fillcolor(\"gold\")\n",
        "t.penup()\n",
        "t.goto(0, 0)  # Starting position for the first star\n",
        "t.pendown()\n",
        "t.begin_fill()\n",
        "star(5,250,360/5)\n",
        "t.end_fill()\n",
        "\n",
        "t.penup()\n",
        "t.backward(100)\n",
        "t.pendown()"
      ]
    }
  ],
  "metadata": {
    "colab": {
      "provenance": []
    },
    "kernelspec": {
      "display_name": "Python 3",
      "language": "python",
      "name": "python3"
    },
    "language_info": {
      "codemirror_mode": {
        "name": "ipython",
        "version": 3
      },
      "file_extension": ".py",
      "mimetype": "text/x-python",
      "name": "python",
      "nbconvert_exporter": "python",
      "pygments_lexer": "ipython3",
      "version": "3.11.0 (v3.11.0:deaf509e8f, Oct 24 2022, 14:43:23) [Clang 13.0.0 (clang-1300.0.29.30)]"
    },
    "vscode": {
      "interpreter": {
        "hash": "aee8b7b246df8f9039afb4144a1f6fd8d2ca17a180786b69acc140d282b71a49"
      }
    }
  },
  "nbformat": 4,
  "nbformat_minor": 0
}
